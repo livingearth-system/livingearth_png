{
 "cells": [
  {
   "cell_type": "markdown",
   "id": "aa62b18d-0daf-4926-ab64-30bd3ea6a958",
   "metadata": {},
   "source": [
    "## Mangrove change analysis\n",
    "\n",
    "#### this is a simple notebook that looks at mangrove change analysis for PNG using EASI Asia data cube\n",
    "\n",
    "- GMW vectors (d/l from here - https://data.unep-wcmc.org/datasets/45)\n",
    "- select where you want to be in PNG\n",
    "- select years of GMW to compare \n",
    "- load in vector layers of AOI extent only\n",
    "- rasterise\n",
    "- compute change analysis"
   ]
  },
  {
   "cell_type": "markdown",
   "id": "11984e1d-5869-4de8-9eca-009e2276153d",
   "metadata": {},
   "source": [
    "#### Load packages"
   ]
  },
  {
   "cell_type": "code",
   "execution_count": 1,
   "id": "a9f2af6e-71bb-485c-ade7-897f6acae5a0",
   "metadata": {
    "tags": []
   },
   "outputs": [
    {
     "name": "stderr",
     "output_type": "stream",
     "text": [
      "/tmp/ipykernel_1005/771475954.py:6: UserWarning: Shapely 2.0 is installed, but because PyGEOS is also installed, GeoPandas will still use PyGEOS by default for now. To force to use and test Shapely 2.0, you have to set the environment variable USE_PYGEOS=0. You can do this before starting the Python process, or in your code before importing geopandas:\n",
      "\n",
      "import os\n",
      "os.environ['USE_PYGEOS'] = '0'\n",
      "import geopandas\n",
      "\n",
      "In a future release, GeoPandas will switch to using Shapely by default. If you are using PyGEOS directly (calling PyGEOS functions on geometries from GeoPandas), this will then stop working and you are encouraged to migrate from PyGEOS to Shapely 2.0 (https://shapely.readthedocs.io/en/latest/migration_pygeos.html).\n",
      "  import geopandas as gpd\n"
     ]
    }
   ],
   "source": [
    "import matplotlib.pyplot as plt\n",
    "import matplotlib.colors as colors\n",
    "import sys\n",
    "import numpy as np\n",
    "import xarray as xr\n",
    "import geopandas as gpd\n",
    "\n",
    "import ipywidgets\n",
    "from ipywidgets import HTML\n",
    "from ipyleaflet import Map, basemaps, basemap_to_tiles, DrawControl\n",
    "\n",
    "import datacube\n",
    "from dea_tools.spatial import xr_rasterize\n",
    "from dea_tools.plotting import display_map\n",
    "from datacube.drivers.netcdf import write_dataset_to_netcdf\n",
    "\n",
    "dc = datacube.Datacube(app='Mangrove change analysis')"
   ]
  },
  {
   "cell_type": "markdown",
   "id": "feb58250-1bb8-43d7-ac1d-a2ce7d687760",
   "metadata": {},
   "source": [
    "#### AWS Access"
   ]
  },
  {
   "cell_type": "code",
   "execution_count": 2,
   "id": "6f40ba44-48b1-4102-9642-26fc676e9cb4",
   "metadata": {
    "tags": []
   },
   "outputs": [],
   "source": [
    "## Optional: Access AWS \"requester-pays\" buckets\n",
    "# This is necessary for Landsat (\"landsatN_c2l2_*\") and Sentinel-2 (\"s2_l2a\") products\n",
    "from datacube.utils.aws import configure_s3_access\n",
    "configure_s3_access(aws_unsigned=False, requester_pays=True);"
   ]
  },
  {
   "cell_type": "markdown",
   "id": "17861117-277f-42f3-9850-46bbd2172d82",
   "metadata": {},
   "source": [
    "### Select Area of Interest (AOI)"
   ]
  },
  {
   "cell_type": "code",
   "execution_count": 3,
   "id": "881babe0-e6a5-49fc-97f9-049e8e07cf85",
   "metadata": {
    "tags": []
   },
   "outputs": [
    {
     "data": {
      "application/vnd.jupyter.widget-view+json": {
       "model_id": "d8a5097d5c064bcd8ce511dd11541632",
       "version_major": 2,
       "version_minor": 0
      },
      "text/plain": [
       "Map(center=[-6.31524, 143.955631], controls=(ZoomControl(options=['position', 'zoom_in_text', 'zoom_in_title',…"
      ]
     },
     "execution_count": 3,
     "metadata": {},
     "output_type": "execute_result"
    }
   ],
   "source": [
    "# Define the center coordinates of the map\n",
    "center = (-6.315240, 143.955631)\n",
    "\n",
    "# Create the map object and set the center and zoom level\n",
    "m = Map(center=center, zoom=7, basemap=basemap_to_tiles(basemaps.Esri.WorldImagery), scroll_wheel_zoom=True, layout={'height': '800px'})\n",
    "\n",
    "# Add a label to display the drawn rectangle's coordinates\n",
    "label = HTML()\n",
    "m.add_control(label)\n",
    "\n",
    "latitude = ()\n",
    "longitude = ()\n",
    "\n",
    "def handle_draw(self, action, geo_json):\n",
    "    global latitude, longitude\n",
    "    coords = geo_json['geometry']['coordinates'][0]\n",
    "    longitudes, latitudes = zip(*coords)\n",
    "    min_lat, max_lat = min(latitudes), max(latitudes)\n",
    "    min_lon, max_lon = min(longitudes), max(longitudes)\n",
    "    latitude = (min_lat, max_lat)\n",
    "    longitude = (min_lon, max_lon)\n",
    "    print(f\"Latitude: {latitude}\")\n",
    "    print(f\"Longitude: {longitude}\")\n",
    "    self.clear_drawings()\n",
    "    rect = geo_json['geometry']\n",
    "    draw_control.add_draw(geo_json['geometry'])\n",
    "\n",
    "draw_control = DrawControl()\n",
    "draw_control.polygon = {}  # disable polygon drawing mode\n",
    "draw_control.polyline = {}  # disable polyline drawing mode\n",
    "draw_control.circlemarker = {}  # disable circle drawing mode\n",
    "draw_control.rectangle = {\n",
    "    \"shapeOptions\": {\n",
    "        \"color\": \"red\",\n",
    "        \"weight\": 1,\n",
    "        \"opacity\": 1,\n",
    "        \"fillOpacity\": 0\n",
    "    }\n",
    "}\n",
    "draw_control.on_draw(handle_draw)\n",
    "\n",
    "# Add the draw control to the map\n",
    "m.add_control(draw_control)\n",
    "\n",
    "# Display the map\n",
    "m"
   ]
  },
  {
   "cell_type": "markdown",
   "id": "2606d62e-ff9d-4d53-b777-7a000f5a4aa5",
   "metadata": {},
   "source": [
    "#### Select times for change analysis using dropdown widget"
   ]
  },
  {
   "cell_type": "code",
   "execution_count": 4,
   "id": "bef003b0-fb83-47fa-b8aa-27fb0879c8dc",
   "metadata": {
    "tags": []
   },
   "outputs": [
    {
     "data": {
      "application/vnd.jupyter.widget-view+json": {
       "model_id": "e72f1046befe4a9d9d60d701eb3d8818",
       "version_major": 2,
       "version_minor": 0
      },
      "text/plain": [
       "Dropdown(description='Select time 1 mangrove change analysis', layout=Layout(width='400px'), options=(('GMW 19…"
      ]
     },
     "metadata": {},
     "output_type": "display_data"
    },
    {
     "data": {
      "application/vnd.jupyter.widget-view+json": {
       "model_id": "ff253a018c7d448aa4b1c05e55fe3dc4",
       "version_major": 2,
       "version_minor": 0
      },
      "text/plain": [
       "Dropdown(description='Select time 2 mangrove change analysis', layout=Layout(width='400px'), options=(), style…"
      ]
     },
     "metadata": {},
     "output_type": "display_data"
    }
   ],
   "source": [
    "gmw_1996 = '../data/GMW/gmw_v3_1996_vec.shp'\n",
    "gmw_2007 = '../data/GMW/gmw_v3_2007_vec.shp'\n",
    "gmw_2008 = '../data/GMW/gmw_v3_2008_vec.shp'\n",
    "gmw_2009 = '../data/GMW/gmw_v3_2009_vec.shp'\n",
    "gmw_2010 = '../data/GMW/gmw_v3_2010_vec.shp'\n",
    "gmw_2015 = '../data/GMW/gmw_v3_2015_vec.shp'\n",
    "gmw_2016 = '../data/GMW/gmw_v3_2016_vec.shp'\n",
    "gmw_2017 = '../data/GMW/gmw_v3_2017_vec.shp'\n",
    "gmw_2018 = '../data/GMW/gmw_v3_2018_vec.shp'\n",
    "gmw_2019 = '../data/GMW/gmw_v3_2019_vec.shp'\n",
    "gmw_2020 = '../data/GMW/gmw_v3_2020_vec.shp'\n",
    "\n",
    "# Define the list of options for the dropdowns\n",
    "pre_options = [('GMW 1996', gmw_1996), ('GMW 2007', gmw_2007), ('GMW 2008', gmw_2008), ('GMW 2009', gmw_2009), ('GMW 2010', gmw_2010), ('GMW 2015', gmw_2015), ('GMW 2016', gmw_2016), ('GMW 2017', gmw_2017), ('GMW 2018', gmw_2018), ('GMW 2019', gmw_2019), ('GMW 2020', gmw_2020)]\n",
    "post_options = [('GMW 1996', gmw_1996), ('GMW 2007', gmw_2007), ('GMW 2008', gmw_2008), ('GMW 2009', gmw_2009), ('GMW 2010', gmw_2010), ('GMW 2015', gmw_2015), ('GMW 2016', gmw_2016), ('GMW 2017', gmw_2017), ('GMW 2018', gmw_2018), ('GMW 2019', gmw_2019), ('GMW 2020', gmw_2020)]\n",
    "\n",
    "# Create the dropdown widgets with the options\n",
    "pre_dropdown = ipywidgets.Dropdown(options=pre_options, description='Select time 1 mangrove change analysis', style={'description_width': 'initial', 'width': '500px'}, layout=ipywidgets.Layout(width='400px'))\n",
    "post_dropdown = ipywidgets.Dropdown(options=[], description='Select time 2 mangrove change analysis', style={'description_width': 'initial', 'width': '500px'}, layout=ipywidgets.Layout(width='400px'))\n",
    "\n",
    "# Define a function to handle the pre selection\n",
    "def handle_pre_selection(change):\n",
    "    selected_value = change.new\n",
    "    # update post dropdown options to only include later dates\n",
    "    new_post_options = [(option[0], option[1]) for option in post_options if option[1] > selected_value]\n",
    "    post_dropdown.options = new_post_options\n",
    "    print(f'You have selected {selected_value}')\n",
    "\n",
    "# Define a function to handle the post selection\n",
    "def handle_post_selection(change):\n",
    "    selected_value = change.new\n",
    "    print(f'You have selected {selected_value}')\n",
    "\n",
    "# Attach the functions to the dropdowns\n",
    "pre_dropdown.observe(handle_pre_selection, names='value')\n",
    "post_dropdown.observe(handle_post_selection, names='value')\n",
    "\n",
    "# Display the widgets\n",
    "display(pre_dropdown)\n",
    "display(post_dropdown)\n"
   ]
  },
  {
   "cell_type": "markdown",
   "id": "dd20cf4c-b4a5-4d94-bff9-3b180986535b",
   "metadata": {
    "tags": []
   },
   "source": [
    "#### Load GMW and datacube AOI"
   ]
  },
  {
   "cell_type": "code",
   "execution_count": 5,
   "id": "7230d061-c900-4f23-9227-702a7354bdb3",
   "metadata": {
    "tags": []
   },
   "outputs": [
    {
     "name": "stderr",
     "output_type": "stream",
     "text": [
      "/env/lib/python3.10/site-packages/pygeos/io.py:89: UserWarning: The shapely GEOS version (3.10.2-CAPI-1.16.0) is incompatible with the PyGEOS GEOS version (3.10.2-CAPI-1.16.0). Conversions between both will be slow\n",
      "  warnings.warn(\n"
     ]
    }
   ],
   "source": [
    "# load in mangrove vector data just for AOI extent\n",
    "bbox = [longitude[0], latitude[1], longitude[1], latitude[0]]\n",
    "\n",
    "gmw_pre = gpd.read_file(pre_dropdown.value, bbox=bbox)\n",
    "\n",
    "gmw_post = gpd.read_file(post_dropdown.value, bbox=bbox)"
   ]
  },
  {
   "cell_type": "code",
   "execution_count": null,
   "id": "675f155f-ec4d-4fee-9204-ca51d0367412",
   "metadata": {
    "tags": []
   },
   "outputs": [],
   "source": [
    "# load in some datacube data (to get xarray features to rasterise polygon AOI to)\n",
    "# set time range to just get some data\n",
    "time = ('2020-01-01', '2020-01-15')\n",
    "\n",
    "\n",
    "# load data\n",
    "ds = dc.load(\n",
    "    product = 'landsat8_c2l2_sr', \n",
    "    latitude = latitude,\n",
    "    longitude = longitude,\n",
    "    time=time,\n",
    "    measurements=['blue', 'green', 'red', 'nir08', 'swir16', 'swir22', 'qa_pixel'],\n",
    "    output_crs=\"EPSG:32755\",  # Target CRS - https://epsg.io/?q=Papua%20New%20Guinea%20kind%3APROJCRS\n",
    "    resolution=(30, -30),     # Target resolution\n",
    "    group_by='solar_day',     # Group by time method\n",
    "    dask_chunks={'time': 1, 'x': 100, 'y': 100}\n",
    ")\n",
    "\n",
    "# rename bands, needed for rgb function and for xr_geomedian\n",
    "ds = ds.rename({\n",
    "    \"blue\": \"nbart_blue\",\n",
    "    \"green\": \"nbart_green\",\n",
    "    \"red\": \"nbart_red\",\n",
    "    \"nir08\": \"nbart_nir\",\n",
    "    \"swir16\": \"nbart_swir_1\",\n",
    "    \"swir22\": \"nbart_swir_2\",\n",
    "    \"qa_pixel\": \"fmask\",\n",
    "})\n",
    "\n",
    "\n",
    "# select out only 1 time step to use in xr_rasterize\n",
    "ds_AOI = ds.isel(time=0)"
   ]
  },
  {
   "cell_type": "code",
   "execution_count": null,
   "id": "4c1fd204-b66f-4f09-b17f-b4f957c4f902",
   "metadata": {
    "tags": []
   },
   "outputs": [],
   "source": [
    "# Subset the vector geometries to the area of interest\n",
    "xmin, ymin, xmax, ymax = bbox\n",
    "\n",
    "gmw_pre_vec_geom = gmw_pre.cx[xmin:xmax, ymin:ymax]\n",
    "gmw_post_vec_geom = gmw_post.cx[xmin:xmax, ymin:ymax]"
   ]
  },
  {
   "cell_type": "code",
   "execution_count": null,
   "id": "848927ce-eb55-4fa7-96ea-d16b34ae47b1",
   "metadata": {
    "tags": []
   },
   "outputs": [],
   "source": [
    "mangrove_t1 = xr_rasterize(gdf=gmw_pre_vec_geom, da=ds_AOI)\n",
    "mangrove_t2 = xr_rasterize(gdf=gmw_post_vec_geom, da=ds_AOI)\n",
    "\n",
    "# multiple mangrove_t2 by 10 so addition of xarrays gives unique values of change\n",
    "mangrove_t2 = mangrove_t2 * 10\n",
    "\n",
    "# add datasets together to get change\n",
    "mangrove_change = mangrove_t1 + mangrove_t2\n",
    "\n",
    "# change values to represent: 0 = no mangrove, 1 = loss of mangrove area, 2 = no change in mangrove area, 3 = gain of mangrove area\n",
    "mangrove_change = mangrove_change.where(mangrove_change != 11, 2) # replace 11 with 2\n",
    "mangrove_change = mangrove_change.where(mangrove_change != 10, 3) # replace 10 with 3\n",
    "mangrove_change = mangrove_change.where(mangrove_change != 0, 0) # replace 0 with 0\n",
    "mangrove_change = mangrove_change.where(mangrove_change != 1, 1) # replace 1 with 1\n"
   ]
  },
  {
   "cell_type": "markdown",
   "id": "9859b6ec-ebe4-4b76-8503-2059721410b4",
   "metadata": {},
   "source": [
    "### display mangrove change"
   ]
  },
  {
   "cell_type": "code",
   "execution_count": null,
   "id": "330ea13d-0f4c-481d-a67d-fb8d1bcf7649",
   "metadata": {
    "tags": []
   },
   "outputs": [
    {
     "data": {
      "image/png": "[encoded data removed]",
      "text/plain": [
       "<Figure size 1500x1000 with 2 Axes>"
      ]
     },
     "metadata": {},
     "output_type": "display_data"
    }
   ],
   "source": [
    "# Define the custom colormap\n",
    "cmap = colors.ListedColormap(['white', 'red', 'grey', 'green'])\n",
    "\n",
    "# Create a figure with a specified size\n",
    "fig, ax = plt.subplots(figsize=(15, 10))\n",
    "\n",
    "# Plot the data using the custom colormap\n",
    "mappable = mangrove_change.plot(cmap=cmap, levels=5, ax=ax)\n",
    "\n",
    "# Show the plot\n",
    "plt.show()\n"
   ]
  },
  {
   "cell_type": "markdown",
   "id": "b8512a3f-abf0-41bc-b79a-3bcb277a2865",
   "metadata": {
    "tags": []
   },
   "source": [
    "#### export below if required"
   ]
  },
  {
   "cell_type": "code",
   "execution_count": null,
   "id": "198458de-de29-4c87-b5d2-7f91d1e4a46b",
   "metadata": {},
   "outputs": [],
   "source": [
    "# AOI_mangrove_ds = AOI_mangrove.to_dataset(name=\"mangrove\").squeeze()\n",
    "# AOI_mangrove_ds\n",
    "\n",
    "# # export out as .nc to allow load back in easily as xarray\n",
    "# write_dataset_to_netcdf(AOI_mangrove_ds, '../data/mangrove_2020_test.nc')"
   ]
  },
  {
   "cell_type": "code",
   "execution_count": null,
   "id": "e6632e32-c4e8-48d4-b282-d4c40921e073",
   "metadata": {},
   "outputs": [],
   "source": [
    "# from datacube.utils.cog import write_cog\n",
    "# # add crs and to_array for cog output\n",
    "# mangrove_t1.attrs['crs'] = 'EPSG:32755'\n",
    "# # mangrove_export = mangrove_t1.to_array()\n",
    "\n",
    "# # output as cog\n",
    "# write_cog(mangrove_t1, '../data/mangrove_t1.tif', overwrite=True)"
   ]
  }
 ],
 "metadata": {
  "kernelspec": {
   "display_name": "Python 3 (ipykernel)",
   "language": "python",
   "name": "python3"
  },
  "language_info": {
   "codemirror_mode": {
    "name": "ipython",
    "version": 3
   },
   "file_extension": ".py",
   "mimetype": "text/x-python",
   "name": "python",
   "nbconvert_exporter": "python",
   "pygments_lexer": "ipython3",
   "version": "3.10.12"
  }
 },
 "nbformat": 4,
 "nbformat_minor": 5
}
