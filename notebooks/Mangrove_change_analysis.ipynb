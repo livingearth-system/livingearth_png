{
 "cells": [
  {
   "cell_type": "markdown",
   "id": "aa62b18d-0daf-4926-ab64-30bd3ea6a958",
   "metadata": {},
   "source": [
    "## Mangrove change analysis\n",
    "- static GMW vectors (for now until the geoserver option works)\n",
    "- select where you want to be in PNG (could change later to geojson input)\n",
    "- select years of GMW to compare (d/l from here - https://data.unep-wcmc.org/datasets/45 - for now until the geoserver option works)\n",
    "- load in vector layers of AOI extent only\n",
    "- rasterise\n",
    "- compute change analysis\n",
    "- display similar to interactive WOfS where distribution is seen?"
   ]
  },
  {
   "cell_type": "markdown",
   "id": "11984e1d-5869-4de8-9eca-009e2276153d",
   "metadata": {},
   "source": [
    "#### Load packages"
   ]
  },
  {
   "cell_type": "code",
   "execution_count": 1,
   "id": "a9f2af6e-71bb-485c-ade7-897f6acae5a0",
   "metadata": {
    "tags": []
   },
   "outputs": [
    {
     "name": "stderr",
     "output_type": "stream",
     "text": [
      "/tmp/ipykernel_2724/147992147.py:6: UserWarning: Shapely 2.0 is installed, but because PyGEOS is also installed, GeoPandas will still use PyGEOS by default for now. To force to use and test Shapely 2.0, you have to set the environment variable USE_PYGEOS=0. You can do this before starting the Python process, or in your code before importing geopandas:\n",
      "\n",
      "import os\n",
      "os.environ['USE_PYGEOS'] = '0'\n",
      "import geopandas\n",
      "\n",
      "In a future release, GeoPandas will switch to using Shapely by default. If you are using PyGEOS directly (calling PyGEOS functions on geometries from GeoPandas), this will then stop working and you are encouraged to migrate from PyGEOS to Shapely 2.0 (https://shapely.readthedocs.io/en/latest/migration_pygeos.html).\n",
      "  import geopandas as gpd\n"
     ]
    }
   ],
   "source": [
    "import matplotlib.pyplot as plt\n",
    "\n",
    "import sys\n",
    "import numpy as np\n",
    "import xarray as xr\n",
    "import geopandas as gpd\n",
    "\n",
    "import datacube\n",
    "from dea_tools.spatial import xr_rasterize\n",
    "from dea_tools.plotting import display_map\n",
    "\n",
    "dc = datacube.Datacube(app='Mangrove change analysis')"
   ]
  },
  {
   "cell_type": "markdown",
   "id": "feb58250-1bb8-43d7-ac1d-a2ce7d687760",
   "metadata": {},
   "source": [
    "#### AWS Access"
   ]
  },
  {
   "cell_type": "code",
   "execution_count": 2,
   "id": "6f40ba44-48b1-4102-9642-26fc676e9cb4",
   "metadata": {
    "tags": []
   },
   "outputs": [],
   "source": [
    "## Optional: Access AWS \"requester-pays\" buckets\n",
    "# This is necessary for Landsat (\"landsatN_c2l2_*\") and Sentinel-2 (\"s2_l2a\") products\n",
    "from datacube.utils.aws import configure_s3_access\n",
    "configure_s3_access(aws_unsigned=False, requester_pays=True);"
   ]
  },
  {
   "cell_type": "markdown",
   "id": "08a48c06-64f7-4dbd-8a74-fd96593c0b8c",
   "metadata": {},
   "source": [
    "#### display AOI"
   ]
  },
  {
   "cell_type": "code",
   "execution_count": 3,
   "id": "2787d196-ee20-47a3-b3cd-b2fb4e850950",
   "metadata": {
    "tags": []
   },
   "outputs": [
    {
     "name": "stderr",
     "output_type": "stream",
     "text": [
      "/env/lib/python3.10/site-packages/dea_tools/plotting.py:313: FutureWarning: This function is deprecated. See: https://pyproj4.github.io/pyproj/stable/gotchas.html#upgrading-to-pyproj-2-from-pyproj-1\n",
      "  all_longitude, all_latitude = transform(Proj(crs), Proj('EPSG:4326'), all_x,\n"
     ]
    },
    {
     "data": {
      "text/html": [
       "<div style=\"width:100%;\"><div style=\"position:relative;width:100%;height:0;padding-bottom:60%;\"><span style=\"color:#565656\">Make this Notebook Trusted to load map: File -> Trust Notebook</span><iframe srcdoc=\"&lt;!DOCTYPE html&gt;\n",
       "&lt;html&gt;\n",
       "&lt;head&gt;\n",
       "    \n",
       "    &lt;meta http-equiv=&quot;content-type&quot; content=&quot;text/html; charset=UTF-8&quot; /&gt;\n",
       "    \n",
       "        &lt;script&gt;\n",
       "            L_NO_TOUCH = false;\n",
       "            L_DISABLE_3D = false;\n",
       "        &lt;/script&gt;\n",
       "    \n",
       "    &lt;style&gt;html, body {width: 100%;height: 100%;margin: 0;padding: 0;}&lt;/style&gt;\n",
       "    &lt;style&gt;#map {position:absolute;top:0;bottom:0;right:0;left:0;}&lt;/style&gt;\n",
       "    &lt;script src=&quot;https://cdn.jsdelivr.net/npm/leaflet@1.9.3/dist/leaflet.js&quot;&gt;&lt;/script&gt;\n",
       "    &lt;script src=&quot;https://code.jquery.com/jquery-1.12.4.min.js&quot;&gt;&lt;/script&gt;\n",
       "    &lt;script src=&quot;https://cdn.jsdelivr.net/npm/bootstrap@5.2.2/dist/js/bootstrap.bundle.min.js&quot;&gt;&lt;/script&gt;\n",
       "    &lt;script src=&quot;https://cdnjs.cloudflare.com/ajax/libs/Leaflet.awesome-markers/2.0.2/leaflet.awesome-markers.js&quot;&gt;&lt;/script&gt;\n",
       "    &lt;link rel=&quot;stylesheet&quot; href=&quot;https://cdn.jsdelivr.net/npm/leaflet@1.9.3/dist/leaflet.css&quot;/&gt;\n",
       "    &lt;link rel=&quot;stylesheet&quot; href=&quot;https://cdn.jsdelivr.net/npm/bootstrap@5.2.2/dist/css/bootstrap.min.css&quot;/&gt;\n",
       "    &lt;link rel=&quot;stylesheet&quot; href=&quot;https://netdna.bootstrapcdn.com/bootstrap/3.0.0/css/bootstrap.min.css&quot;/&gt;\n",
       "    &lt;link rel=&quot;stylesheet&quot; href=&quot;https://cdn.jsdelivr.net/npm/@fortawesome/fontawesome-free@6.2.0/css/all.min.css&quot;/&gt;\n",
       "    &lt;link rel=&quot;stylesheet&quot; href=&quot;https://cdnjs.cloudflare.com/ajax/libs/Leaflet.awesome-markers/2.0.2/leaflet.awesome-markers.css&quot;/&gt;\n",
       "    &lt;link rel=&quot;stylesheet&quot; href=&quot;https://cdn.jsdelivr.net/gh/python-visualization/folium/folium/templates/leaflet.awesome.rotate.min.css&quot;/&gt;\n",
       "    \n",
       "            &lt;meta name=&quot;viewport&quot; content=&quot;width=device-width,\n",
       "                initial-scale=1.0, maximum-scale=1.0, user-scalable=no&quot; /&gt;\n",
       "            &lt;style&gt;\n",
       "                #map_53014f59668a0d53facdbe0783264198 {\n",
       "                    position: relative;\n",
       "                    width: 100.0%;\n",
       "                    height: 100.0%;\n",
       "                    left: 0.0%;\n",
       "                    top: 0.0%;\n",
       "                }\n",
       "                .leaflet-container { font-size: 1rem; }\n",
       "            &lt;/style&gt;\n",
       "        \n",
       "&lt;/head&gt;\n",
       "&lt;body&gt;\n",
       "    \n",
       "    \n",
       "            &lt;div class=&quot;folium-map&quot; id=&quot;map_53014f59668a0d53facdbe0783264198&quot; &gt;&lt;/div&gt;\n",
       "        \n",
       "&lt;/body&gt;\n",
       "&lt;script&gt;\n",
       "    \n",
       "    \n",
       "            var map_53014f59668a0d53facdbe0783264198 = L.map(\n",
       "                &quot;map_53014f59668a0d53facdbe0783264198&quot;,\n",
       "                {\n",
       "                    center: [-7.35, 144.45],\n",
       "                    crs: L.CRS.EPSG3857,\n",
       "                    zoom: 12,\n",
       "                    zoomControl: true,\n",
       "                    preferCanvas: false,\n",
       "                }\n",
       "            );\n",
       "\n",
       "            \n",
       "\n",
       "        \n",
       "    \n",
       "            var tile_layer_9f5a014de44766c69efbfa600154997c = L.tileLayer(\n",
       "                &quot;http://mt1.google.com/vt/lyrs=y\\u0026z={z}\\u0026x={x}\\u0026y={y}&quot;,\n",
       "                {&quot;attribution&quot;: &quot;Google&quot;, &quot;detectRetina&quot;: false, &quot;maxNativeZoom&quot;: 18, &quot;maxZoom&quot;: 18, &quot;minZoom&quot;: 0, &quot;noWrap&quot;: false, &quot;opacity&quot;: 1, &quot;subdomains&quot;: &quot;abc&quot;, &quot;tms&quot;: false}\n",
       "            ).addTo(map_53014f59668a0d53facdbe0783264198);\n",
       "        \n",
       "    \n",
       "            var poly_line_bd92b3620e12cf4d0a2f2a620099e4fd = L.polyline(\n",
       "                [[-7.3, 144.4], [-7.3, 144.5], [-7.4, 144.5], [-7.4, 144.4], [-7.3, 144.4]],\n",
       "                {&quot;bubblingMouseEvents&quot;: true, &quot;color&quot;: &quot;red&quot;, &quot;dashArray&quot;: null, &quot;dashOffset&quot;: null, &quot;fill&quot;: false, &quot;fillColor&quot;: &quot;red&quot;, &quot;fillOpacity&quot;: 0.2, &quot;fillRule&quot;: &quot;evenodd&quot;, &quot;lineCap&quot;: &quot;round&quot;, &quot;lineJoin&quot;: &quot;round&quot;, &quot;noClip&quot;: false, &quot;opacity&quot;: 0.8, &quot;smoothFactor&quot;: 1.0, &quot;stroke&quot;: true, &quot;weight&quot;: 3}\n",
       "            ).addTo(map_53014f59668a0d53facdbe0783264198);\n",
       "        \n",
       "    \n",
       "                var lat_lng_popup_2f4bf0b289645f5db43f9a7f18846a39 = L.popup();\n",
       "                function latLngPop(e) {\n",
       "                    lat_lng_popup_2f4bf0b289645f5db43f9a7f18846a39\n",
       "                        .setLatLng(e.latlng)\n",
       "                        .setContent(&quot;Latitude: &quot; + e.latlng.lat.toFixed(4) +\n",
       "                                    &quot;&lt;br&gt;Longitude: &quot; + e.latlng.lng.toFixed(4))\n",
       "                        .openOn(map_53014f59668a0d53facdbe0783264198);\n",
       "                    }\n",
       "                map_53014f59668a0d53facdbe0783264198.on(&#x27;click&#x27;, latLngPop);\n",
       "            \n",
       "&lt;/script&gt;\n",
       "&lt;/html&gt;\" style=\"position:absolute;width:100%;height:100%;left:0;top:0;border:none !important;\" allowfullscreen webkitallowfullscreen mozallowfullscreen></iframe></div></div>"
      ],
      "text/plain": [
       "<folium.folium.Map at 0x7f89209dd5a0>"
      ]
     },
     "execution_count": 3,
     "metadata": {},
     "output_type": "execute_result"
    }
   ],
   "source": [
    "latitude = (-7.3, -7.4)\n",
    "longitude = (144.4, 144.5)\n",
    "display_map(longitude, latitude)"
   ]
  },
  {
   "cell_type": "markdown",
   "id": "dd20cf4c-b4a5-4d94-bff9-3b180986535b",
   "metadata": {},
   "source": [
    "#### load GMW and datacube AOI"
   ]
  },
  {
   "cell_type": "code",
   "execution_count": 4,
   "id": "7230d061-c900-4f23-9227-702a7354bdb3",
   "metadata": {
    "tags": []
   },
   "outputs": [
    {
     "name": "stderr",
     "output_type": "stream",
     "text": [
      "/env/lib/python3.10/site-packages/pygeos/io.py:89: UserWarning: The shapely GEOS version (3.10.2-CAPI-1.16.0) is incompatible with the PyGEOS GEOS version (3.10.2-CAPI-1.16.0). Conversions between both will be slow\n",
      "  warnings.warn(\n"
     ]
    }
   ],
   "source": [
    "# path to GMW layer\n",
    "gmw_2020 = '../data/gmw_v3_2020_vec.shp'\n",
    "\n",
    "# load in mangrove vector data just for AOI extent\n",
    "bbox = [longitude[0], latitude[1], longitude[1], latitude[0]]\n",
    "\n",
    "gmw_vec = gpd.read_file(gmw_2020, bbox=bbox)"
   ]
  },
  {
   "cell_type": "code",
   "execution_count": 5,
   "id": "675f155f-ec4d-4fee-9204-ca51d0367412",
   "metadata": {
    "tags": []
   },
   "outputs": [],
   "source": [
    "# load in some datacube data (to get xarray features to rasterise polygon AOI to)\n",
    "\n",
    "# set time range\n",
    "time = ('2020-01-01', '2020-01-31')\n",
    "\n",
    "\n",
    "# load data\n",
    "ds = dc.load(\n",
    "    product = 'landsat8_c2l2_sr', \n",
    "    latitude = latitude,\n",
    "    longitude = longitude,\n",
    "    time=time,\n",
    "    measurements=['blue', 'green', 'red', 'nir08', 'swir16', 'swir22', 'qa_pixel'],\n",
    "    output_crs=\"EPSG:32755\",  # Target CRS - https://epsg.io/?q=Papua%20New%20Guinea%20kind%3APROJCRS\n",
    "    resolution=(30, -30),     # Target resolution\n",
    "    group_by='solar_day',     # Group by time method\n",
    "    dask_chunks={'time': 1, 'x': 100, 'y': 100}\n",
    ")\n",
    "\n",
    "# rename bands, needed for rgb function and for xr_geomedian\n",
    "ds = ds.rename({\n",
    "    \"blue\": \"nbart_blue\",\n",
    "    \"green\": \"nbart_green\",\n",
    "    \"red\": \"nbart_red\",\n",
    "    \"nir08\": \"nbart_nir\",\n",
    "    \"swir16\": \"nbart_swir_1\",\n",
    "    \"swir22\": \"nbart_swir_2\",\n",
    "    \"qa_pixel\": \"fmask\",\n",
    "})\n",
    "\n",
    "ds\n",
    "\n",
    "# select out only 1 time step to use in xr_rasterize\n",
    "ds_AOI = ds.isel(time=0)"
   ]
  },
  {
   "cell_type": "code",
   "execution_count": 6,
   "id": "4c1fd204-b66f-4f09-b17f-b4f957c4f902",
   "metadata": {
    "tags": []
   },
   "outputs": [],
   "source": [
    "# Subset the vector geometries to the area of interest\n",
    "xmin, ymin, xmax, ymax = bbox\n",
    "gmw_vec_geom = gmw_vec.cx[xmin:xmax, ymin:ymax]"
   ]
  },
  {
   "cell_type": "code",
   "execution_count": 8,
   "id": "848927ce-eb55-4fa7-96ea-d16b34ae47b1",
   "metadata": {
    "tags": []
   },
   "outputs": [],
   "source": [
    "AOI_mangrove = xr_rasterize(gdf=gmw_vec_geom, da=ds_AOI)"
   ]
  },
  {
   "cell_type": "code",
   "execution_count": 11,
   "id": "3196a650-68ed-4d94-aafb-ba5ce87ab3d7",
   "metadata": {
    "tags": []
   },
   "outputs": [
    {
     "data": {
      "text/plain": [
       "<matplotlib.collections.QuadMesh at 0x7f8821e301c0>"
      ]
     },
     "execution_count": 11,
     "metadata": {},
     "output_type": "execute_result"
    },
    {
     "data": {
      "image/png": "[encoded data removed]",
      "text/plain": [
       "<Figure size 1333.33x1000 with 2 Axes>"
      ]
     },
     "metadata": {},
     "output_type": "display_data"
    }
   ],
   "source": [
    "AOI_mangrove.plot(size=10)"
   ]
  },
  {
   "cell_type": "code",
   "execution_count": null,
   "id": "198458de-de29-4c87-b5d2-7f91d1e4a46b",
   "metadata": {},
   "outputs": [],
   "source": []
  }
 ],
 "metadata": {
  "kernelspec": {
   "display_name": "Python 3 (ipykernel)",
   "language": "python",
   "name": "python3"
  },
  "language_info": {
   "codemirror_mode": {
    "name": "ipython",
    "version": 3
   },
   "file_extension": ".py",
   "mimetype": "text/x-python",
   "name": "python",
   "nbconvert_exporter": "python",
   "pygments_lexer": "ipython3",
   "version": "3.10.6"
  }
 },
 "nbformat": 4,
 "nbformat_minor": 5
}
