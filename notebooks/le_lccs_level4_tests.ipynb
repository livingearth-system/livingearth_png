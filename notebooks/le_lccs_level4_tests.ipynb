{
 "cells": [
  {
   "cell_type": "markdown",
   "metadata": {},
   "source": [
    "# <font color=green>LivingEarth PNG - FAO LCCS Level 4</font>"
   ]
  },
  {
   "cell_type": "markdown",
   "metadata": {},
   "source": [
    "### An environmental layers testing framework for the FAO land cover classification system"
   ]
  },
  {
   "cell_type": "markdown",
   "metadata": {},
   "source": [
    "The purpose of this notebook is to provide an easy-to-use method for testing environmental layers to use for classification and seeing how changes to particular layers effect the final Land Cover Classification. You can easily test with different environmental layer inputs, and different locations. \n",
    "\n",
    "This code defines 5 variables to contain the binary layers required to reach a level 3 classification:\n",
    "1. <font color=blue>**vegetat_veg_cat:**</font> Vegetated / Non-Vegetated \n",
    "2. <font color=blue>**aquatic_wat_cat:**</font> Aquatic / Terrestrial \n",
    "3. <font color=blue>**cultman_agr_cat:**</font> Natural Vegetation / Crop or Managed Vegetation\n",
    "4. <font color=blue>**artific_urb_cat:**</font> Natural Surfaces / Artificial Surfaces\n",
    "5. <font color=blue>**artwatr_wat_cat:**</font> Natural Water / Artificial Water\n",
    "\n",
    "Shallow level 4\n",
    "- deriving woody/non wood using WCF\n",
    "- pulling out mangrove, supratidal forests (STF) and saltmarsh - the latter two using DEM < 10 m\n"
   ]
  },
  {
   "cell_type": "markdown",
   "metadata": {},
   "source": [
    "#### Install the environment (need DEA fc and wofs packages) using the following on command line"
   ]
  },
  {
   "cell_type": "code",
   "execution_count": null,
   "metadata": {
    "tags": []
   },
   "outputs": [],
   "source": [
    "'''\n",
    "python3 -m venv ~/venvs/VP_Environment\n",
    "source ~/venvs/VP_Environment/bin/activate\n",
    "deactivate\n",
    "realpath /env/lib/python3.10/site-packages > ~/venvs/VP_Environment/lib/python3.10/site-packages/base_venv.pth\n",
    "source ~/venvs/VP_Environment/bin/activate\n",
    "pip install --extra-index-url=https://packages.dea.ga.gov.au/ fc\n",
    "pip install ephem\n",
    "pip install --index-url https://packages.dea.ga.gov.au/ wofs\n",
    "python -m ipykernel install --user --name=VP_Environment\n",
    "cd venvs/VP_Environment\n",
    "touch setup.py\n",
    "\n",
    "##### add in text below to setup.py\n",
    "\n",
    "from setuptools import setup, find_packages\n",
    "\n",
    "setup(\n",
    "    name='VP_Environment',\n",
    "    version='1.0',\n",
    "    packages=find_packages(),\n",
    "    install_requires=[\n",
    "        'ephem',\n",
    "        'wofs',\n",
    "        'fc'\n",
    "    ],\n",
    ")\n",
    "\n",
    "#####\n",
    "\n",
    "python setup.py bdist_egg\n",
    "\n",
    "'''"
   ]
  },
  {
   "cell_type": "markdown",
   "metadata": {},
   "source": [
    "### **Import modules**"
   ]
  },
  {
   "cell_type": "code",
   "execution_count": null,
   "metadata": {
    "tags": []
   },
   "outputs": [],
   "source": [
    "%matplotlib inline\n",
    "import warnings\n",
    "warnings.filterwarnings('ignore')\n",
    "\n",
    "import os, sys\n",
    "import copy\n",
    "\n",
    "import numpy as np\n",
    "import xarray as xr\n",
    "import geopandas as gpd\n",
    "import rasterio\n",
    "\n",
    "from matplotlib import pyplot\n",
    "import matplotlib.pyplot as plt\n",
    "\n",
    "import datacube\n",
    "from datacube.utils import masking\n",
    "from datacube.utils.geometry import CRS\n",
    "from datacube.testutils.io import rio_slurp_xarray\n",
    "from dea_tools.plotting import display_map\n",
    "from dea_tools.spatial import xr_rasterize\n",
    "\n",
    "#import le_lccs modules\n",
    "sys.path.append(\"../../livingearth_lccs\")\n",
    "from le_lccs.le_ingest import gridded_ingest\n",
    "from le_lccs.le_classification import lccs_l3\n",
    "from le_lccs.le_classification import lccs_l4\n",
    "\n",
    "# for virtual products\n",
    "sys.path.insert(1, \"/home/jovyan/code/livingearth_png/le_plugins\")\n",
    "import yaml\n",
    "import importlib\n",
    "from datacube.virtual import catalog_from_file\n",
    "from datacube.virtual import DEFAULT_RESOLVER\n",
    "\n",
    "# outputs\n",
    "from datacube.utils.cog import write_cog\n",
    "from datacube.drivers.netcdf import write_dataset_to_netcdf\n",
    "\n",
    "dc = datacube.Datacube(app=\"level3\")\n",
    "\n",
    "# virtual product catalog\n",
    "catalog = catalog_from_file('../le_plugins/virtual_product_cat.yaml')"
   ]
  },
  {
   "cell_type": "markdown",
   "metadata": {},
   "source": [
    "#### Set Up Dask"
   ]
  },
  {
   "cell_type": "code",
   "execution_count": null,
   "metadata": {
    "tags": []
   },
   "outputs": [],
   "source": [
    "from dask.distributed import Client, LocalCluster\n",
    "\n",
    "cluster = LocalCluster()\n",
    "client = Client(cluster)\n",
    "client"
   ]
  },
  {
   "cell_type": "markdown",
   "metadata": {},
   "source": [
    "#### EASI Cache\n",
    "\n",
    "Don't use this for now as causes problems with some files on the S3 bucket. Once fixed this can be removed."
   ]
  },
  {
   "cell_type": "code",
   "execution_count": null,
   "metadata": {
    "tags": []
   },
   "outputs": [],
   "source": [
    "from os import environ\n",
    "environ[\"AWS_HTTPS\"] = \"YES\"\n",
    "environ[\"GDAL_HTTP_PROXY\"] = \"\"\n",
    "print(f'Will use caching proxy at: {environ.get(\"GDAL_HTTP_PROXY\")}')"
   ]
  },
  {
   "cell_type": "code",
   "execution_count": null,
   "metadata": {
    "tags": []
   },
   "outputs": [],
   "source": [
    "sys.path.append(\"/home/jovyan/code/easi-notebooks/\")\n",
    "from easi_tools import EasiDefaults, notebook_utils\n",
    "\n",
    "easi = EasiDefaults()\n",
    "                \n",
    "notebook_utils.localcluster_dashboard(client=client, server=easi.hub)"
   ]
  },
  {
   "cell_type": "markdown",
   "metadata": {
    "tags": []
   },
   "source": [
    "#### AWS Access"
   ]
  },
  {
   "cell_type": "code",
   "execution_count": null,
   "metadata": {
    "tags": []
   },
   "outputs": [],
   "source": [
    "## Optional: Access AWS \"requester-pays\" buckets\n",
    "# This is necessary for Landsat (\"landsatN_c2l2_*\") and Sentinel-2 (\"s2_l2a\") products\n",
    "from datacube.utils.aws import configure_s3_access\n",
    "configure_s3_access(aws_unsigned=False, requester_pays=True, client=client) ### add client=client here if launching a dask cluster"
   ]
  },
  {
   "cell_type": "markdown",
   "metadata": {},
   "source": [
    "#### display AOI"
   ]
  },
  {
   "cell_type": "code",
   "execution_count": null,
   "metadata": {
    "tags": []
   },
   "outputs": [],
   "source": [
    "#latitude = (-7.329, -7.339)\n",
    "#longitude = (144.44, 144.45)\n",
    "\n",
    "# Western Gulf mangrove area\n",
    "latitude = (-7.3, -7.4)\n",
    "longitude = (144.4, 144.5)\n",
    "\n",
    "# # Port Moresby\n",
    "#latitude = (-9.4, -9.5)\n",
    "#longitude = (147.1, 147.2)\n",
    "\n",
    "display_map(longitude, latitude)"
   ]
  },
  {
   "cell_type": "markdown",
   "metadata": {},
   "source": [
    "## <font color=blue>Set up query</font>"
   ]
  },
  {
   "cell_type": "code",
   "execution_count": null,
   "metadata": {
    "tags": []
   },
   "outputs": [],
   "source": [
    "time = ('2020-01-01', '2020-12-31')\n",
    "\n",
    "crs = \"EPSG:32755\"\n",
    "res = (30, -30)\n",
    "\n",
    "query =({'time': time,\n",
    "             'latitude':latitude,\n",
    "            'longitude':longitude,\n",
    "            'output_crs':crs,\n",
    "            'resolution':res,\n",
    "            'dask_chunks' : {'time' : 10, 'x' : 2048, 'y' : 2048}})"
   ]
  },
  {
   "cell_type": "markdown",
   "metadata": {},
   "source": [
    "## <font color=blue>Create environmental layers for Level 3</font>"
   ]
  },
  {
   "cell_type": "markdown",
   "metadata": {},
   "source": [
    "### 1. Vegetated / Non-Vegetated"
   ]
  },
  {
   "cell_type": "markdown",
   "metadata": {},
   "source": [
    "   * **Primarily Vegetated Areas**:\n",
    "   This class applies to areas that have a vegetative cover of at least 4% for at least two months of the year, consisting of Woody (Trees, Shrubs) and/or Herbaceous (Forbs, Graminoids) lifeforms, or at least 25% cover of Lichens/Mosses when other life forms are absent.\n",
    "      \n",
    "   * **Primarily Non-Vegetated Areas**:\n",
    "   Areas which are not primarily vegetated.\n",
    " \n",
    "\n",
    "Fractional cover (FC) is used to distinguish between vegetated and not vegetated. \n",
    "http://data.auscover.org.au/xwiki/bin/view/Product+pages/Landsat+Fractional+Cover\n",
    "<br>We are using the 90th annual percentile for both Photosyntheic (PV) and Non-photosynthetic (NPV) vegetation. This removes noise and outliers and gives a robust maximum annual value. A threshold is then applied where PV or NPV is greater than 50%, the rationale being that if a pixel is greater than 50% PV or NPV we can be confident that it is likely to be vegetated. In addition, a maximum threshold value is given to NPV as non-photosynthetic vegetation and bare soil (BS) fractions can be unreliable at maximum values due to inherent issues with unmixing NPV and BS signatures.\n",
    "\n",
    "<font color=red>**TODO:**</font> need to calculate number of observations for annual time series to define vegetation correctly as in FAO guidelines. This will likely be similar to WOfS wet/clear obervations but for FC where PV or NPV is greater than 50% for 60 days per year"
   ]
  },
  {
   "cell_type": "code",
   "execution_count": null,
   "metadata": {
    "tags": []
   },
   "outputs": [],
   "source": [
    "# Load Fractional Cover\n",
    "\n",
    "# Need to add any tranformations for the VP you're using\n",
    "# Get location of transformation\n",
    "transformation = \"fractional_cover\"\n",
    "trans_loc = importlib.import_module(transformation)\n",
    "trans_class = transformation.split('.')[-1]\n",
    "\n",
    "DEFAULT_RESOLVER.register('transform', trans_class, getattr(trans_loc, trans_class) )"
   ]
  },
  {
   "cell_type": "code",
   "execution_count": null,
   "metadata": {
    "tags": []
   },
   "outputs": [],
   "source": [
    "product = catalog['fractional_cover']\n",
    "fractional_cover = product.load(dc, **query)\n",
    "fractional_cover = masking.mask_invalid_data(fractional_cover)"
   ]
  },
  {
   "cell_type": "code",
   "execution_count": null,
   "metadata": {
    "tags": []
   },
   "outputs": [],
   "source": [
    "# Need to compute fractional cover here as needed as a mask later\n",
    "fractional_cover = fractional_cover.compute()"
   ]
  },
  {
   "cell_type": "code",
   "execution_count": null,
   "metadata": {
    "tags": []
   },
   "outputs": [],
   "source": [
    "# Load WOfS\n",
    "\n",
    "# Need to add any tranformations for the VP you're using\n",
    "# Get location of transformation\n",
    "transformation = \"WOfS\"\n",
    "trans_loc = importlib.import_module(transformation)\n",
    "trans_class = transformation.split('.')[-1]\n",
    "\n",
    "DEFAULT_RESOLVER.register('transform', trans_class, getattr(trans_loc, trans_class) )"
   ]
  },
  {
   "cell_type": "code",
   "execution_count": null,
   "metadata": {
    "tags": []
   },
   "outputs": [],
   "source": [
    "product = catalog['WOfS']\n",
    "wofs = product.load(dc, **query)\n",
    "wofs = masking.mask_invalid_data(wofs)\n",
    "wofs_mask = wofs[\"frequency\"] >= 0.2"
   ]
  },
  {
   "cell_type": "code",
   "execution_count": null,
   "metadata": {
    "tags": []
   },
   "outputs": [],
   "source": [
    "# Need to compute WOfS here as needed as a mask later\n",
    "wofs_mask = wofs_mask.compute()"
   ]
  },
  {
   "cell_type": "code",
   "execution_count": null,
   "metadata": {
    "tags": []
   },
   "outputs": [],
   "source": [
    "# Create binary layer representing vegetated (1) and non-vegetated (0)\n",
    "vegetat = ((fractional_cover[\"PV_PC_90\"] > 25).fillna(0) - (fractional_cover[\"NPV_PC_90\"] > 25).fillna(0))\n",
    "vegetat = (vegetat.where(vegetat>0)*0+1).fillna(0)\n",
    "\n",
    "# mask out water here\n",
    "vegetat = vegetat.where(wofs_mask == 0, 0, 1)\n",
    "\n",
    "# Convert to Dataset and add name\n",
    "vegetat_veg_cat_ds = vegetat.to_dataset(name=\"vegetat_veg_cat\")#.squeeze().drop('time')"
   ]
  },
  {
   "cell_type": "code",
   "execution_count": null,
   "metadata": {
    "tags": []
   },
   "outputs": [],
   "source": [
    "vegetat_veg_cat_ds.vegetat_veg_cat.plot()"
   ]
  },
  {
   "cell_type": "markdown",
   "metadata": {},
   "source": [
    "### 2. Aquatic / Terrestrial"
   ]
  },
  {
   "cell_type": "markdown",
   "metadata": {},
   "source": [
    "   * **Primarily Vegetated, Terrestrial**: The vegetation is influenced by the edaphic substratum\n",
    "   * **Primarily Non-Vegetated, Terrestrial**: The cover is influenced by the edaphic substratum\n",
    "   * **Primarily Vegetated, Aquatic or regularly flooded**: The environment is significantly influenced by the presence of water over extensive periods of time. The water is the dominant factor determining natural soil development and the type of plant communities living on its surface\n",
    "   * **Primarily Non-Vegetated, Aquatic or regularly flooded**: Permanent or regularly flood aquatic areas\n",
    "   \n",
    "\n",
    "Water Observations from Space (WOfS) is used to distinguish aquatic and terrestrial areas.\n",
    "https://www.sciencedirect.com/science/article/pii/S0034425715301929?via%3Dihub\n",
    "<br> A threshold of 20% is applied for the annual summary dataset to remove flood events not indicative of the landscape.\n",
    "<br>The Mangrove layer are also used for relevant coastal landscapes.\n",
    "\n",
    "<font color=red>**TODO:**</font> need to fix the issue of clouds in WOFS, which results in zeros in lccs map "
   ]
  },
  {
   "cell_type": "code",
   "execution_count": null,
   "metadata": {
    "tags": []
   },
   "outputs": [],
   "source": [
    "# note: wofs (loaded in level 1 as wofs_mask)\n",
    "\n",
    "# load mangroves as mask\n",
    "# gmw_2020 = '../data/GMW/gmw_v3_2020_vec.shp'\n",
    "gmw_2020 = \"s3://oa-bluecarbon-work-easi/livingearth-png/gmw_v3_2020_vec_png.gpkg\"\n",
    "\n",
    "# load in mangrove vector data just for AOI extent\n",
    "bbox = [longitude[0], latitude[1], longitude[1], latitude[0]]\n",
    "\n",
    "# Load the mangrove vector data within the AOI extent\n",
    "gmw = gpd.read_file(gmw_2020, bbox=bbox)\n",
    "\n",
    "# Check if the mangrove vector dataset is empty\n",
    "if gmw.empty:\n",
    "    # If the mangrove vector dataset is empty, create a raster of zeros matching the shape of the WOfS mask\n",
    "    mangrove = xr.DataArray(np.zeros_like(wofs_mask), coords=wofs_mask.coords, dims=wofs_mask.dims, attrs=wofs_mask.attrs)\n",
    "else:\n",
    "    # If the mangrove vector dataset is not empty, rasterize it to match the shape of the WOfS mask\n",
    "    # Get the bounding box coordinates\n",
    "    xmin, ymin, xmax, ymax = bbox\n",
    "    \n",
    "    # Get the mangrove vector data within the AOI extent\n",
    "    gmw_aoi = gmw.cx[xmin:xmax, ymin:ymax]\n",
    "    \n",
    "    # Rasterize the mangrove vector data to match the shape of the WOfS mask\n",
    "    mangrove = xr_rasterize(gdf=gmw_aoi, da=wofs_mask)\n"
   ]
  },
  {
   "cell_type": "code",
   "execution_count": null,
   "metadata": {
    "tags": []
   },
   "outputs": [],
   "source": [
    "# Open Murray's tidal wetland probability (2017-2019) file as xarray\n",
    "# tidal_wetland_file = '../data/Tidal_wetland_Murray_20172019_30m_PNG.tif'\n",
    "tidal_wetland_file = \"s3://oa-bluecarbon-work-easi/livingearth-png/Tidal_wetland_Murray_20172019_30m_PNG.tif\"\n",
    "tidal_wetland = rio_slurp_xarray(tidal_wetland_file, gbox=vegetat_veg_cat_ds.geobox)\n",
    "\n",
    "# Threshold probability layer to 50%\n",
    "tidal_wetland_extent = ((tidal_wetland.where(tidal_wetland>50))*0+1).fillna(0)\n",
    "\n",
    "# Remove mudflats\n",
    "tidal_wetland_veg = vegetat_veg_cat_ds.vegetat_veg_cat * tidal_wetland_extent"
   ]
  },
  {
   "cell_type": "code",
   "execution_count": null,
   "metadata": {
    "tags": []
   },
   "outputs": [],
   "source": [
    "# Create binary layer representing aquatic (1) and terrestrial (0)\n",
    "\n",
    "# For coastal landscapes use the following\n",
    "aquatic_wat = (wofs_mask + mangrove + tidal_wetland_veg)\n",
    "aquatic_wat = (aquatic_wat.where(aquatic_wat > 0)*0+1).fillna(0)\n",
    "\n",
    "# Convert to Dataset and add name\n",
    "aquatic_wat_cat_ds = aquatic_wat.to_dataset(name=\"aquatic_wat_cat\")#.squeeze().drop('time')             "
   ]
  },
  {
   "cell_type": "code",
   "execution_count": null,
   "metadata": {
    "tags": []
   },
   "outputs": [],
   "source": [
    "# Plot output\n",
    "aquatic_wat_cat_ds[\"aquatic_wat_cat\"].plot.imshow(figsize=(6, 5))"
   ]
  },
  {
   "cell_type": "markdown",
   "metadata": {},
   "source": [
    "### 3. Natural Vegetation / Crop or Managed Vegetation"
   ]
  },
  {
   "cell_type": "markdown",
   "metadata": {},
   "source": [
    "   * **Primarily Vegetated, Terrestrial, Artificial/Managed**: Cultivated and Managed Terrestrial Areas\n",
    "   * **Primarily Vegetated, Terrestrial, (Semi-)natural**: Natural and Semi-Natural Vegetation\n",
    "   * **Primarily Vegetated, Aquatic or Regularly Flooded, Artificial/Managed**: Cultivated Aquatic or Regularly Flooded Areas\n",
    "   * **Primarily Vegetated, Aquatic or Regularly Flooded, (Semi-)natural**: Natural and Semi-Natural Aquatic or Regularly Flooded Vegetation"
   ]
  },
  {
   "cell_type": "markdown",
   "metadata": {},
   "source": [
    "#### Excluding cultivated areas"
   ]
  },
  {
   "cell_type": "code",
   "execution_count": null,
   "metadata": {
    "tags": []
   },
   "outputs": [],
   "source": [
    "# Create a raster of zeros\n",
    "cultman = xr.DataArray(np.zeros_like(wofs_mask), \n",
    "                       coords=wofs_mask.coords, dims=wofs_mask.dims, attrs=wofs_mask.attrs)\n",
    "\n",
    "# Convert to Dataset and add name\n",
    "cultman_agr_cat_ds = cultman.to_dataset(name=\"cultman_agr_cat\")"
   ]
  },
  {
   "cell_type": "markdown",
   "metadata": {},
   "source": [
    "#### Test based on Landsat geomedian NDVI"
   ]
  },
  {
   "cell_type": "code",
   "execution_count": null,
   "metadata": {
    "tags": []
   },
   "outputs": [],
   "source": [
    "# # Need to add any tranformations for the VP you're using\n",
    "# # Get location of transformation\n",
    "# transformation = \"geomedian\"\n",
    "# trans_loc = importlib.import_module(transformation)\n",
    "# trans_class = transformation.split('.')[-1]\n",
    "\n",
    "# DEFAULT_RESOLVER.register('transform', trans_class, getattr(trans_loc, trans_class) )"
   ]
  },
  {
   "cell_type": "code",
   "execution_count": null,
   "metadata": {
    "tags": []
   },
   "outputs": [],
   "source": [
    "# # load geomedian\n",
    "# product = catalog['geomedian']\n",
    "# geomedian = product.load(dc, **query)"
   ]
  },
  {
   "cell_type": "code",
   "execution_count": null,
   "metadata": {
    "tags": []
   },
   "outputs": [],
   "source": [
    "# # Create binary layer representing cultivated (1) and natural (0)\n",
    "\n",
    "# # calculate NDVI (PLACEHOLDER)\n",
    "# NDVI = (geomedian.nbart_nir-geomedian.nbart_red)/(geomedian.nbart_nir+geomedian.nbart_red)\n",
    "# cultman = (NDVI >= 0.4) & (NDVI <= 0.7)\n",
    "\n",
    "# # Convert to Dataset and add name\n",
    "# cultman_agr_cat_ds = cultman.to_dataset(name=\"cultman_agr_cat\")#.squeeze().drop('time')"
   ]
  },
  {
   "cell_type": "code",
   "execution_count": null,
   "metadata": {
    "tags": []
   },
   "outputs": [],
   "source": [
    "# Plot output\n",
    "cultman_agr_cat_ds[\"cultman_agr_cat\"].plot.imshow(figsize=(6, 5))"
   ]
  },
  {
   "cell_type": "markdown",
   "metadata": {
    "tags": []
   },
   "source": [
    "### 4. Natural Surfaces / Artificial Surfaces"
   ]
  },
  {
   "cell_type": "code",
   "execution_count": null,
   "metadata": {
    "tags": []
   },
   "outputs": [],
   "source": [
    "OSM = \"s3://oa-bluecarbon-work-easi/livingearth-png/papua-new-guinea.gpkg\"\n",
    "\n",
    "# load in OSM vector data just for AOI extent\n",
    "bbox = [longitude[0], latitude[1], longitude[1], latitude[0]]\n",
    "\n",
    "OSM_blds = gpd.read_file(OSM, layer='buildings', bbox=bbox)\n",
    "OSM_airports = gpd.read_file(OSM, layer='aeroway_ln', bbox=bbox)\n",
    "OSM_roads = gpd.read_file(OSM, layer='highway_ln', bbox=bbox)"
   ]
  },
  {
   "cell_type": "code",
   "execution_count": null,
   "metadata": {
    "tags": []
   },
   "outputs": [],
   "source": [
    "# get bbox to get geom of gdf\n",
    "xmin, ymin, xmax, ymax = bbox"
   ]
  },
  {
   "cell_type": "code",
   "execution_count": null,
   "metadata": {
    "tags": []
   },
   "outputs": [],
   "source": [
    "# Check if the vector dataset is empty\n",
    "if OSM_blds.empty:\n",
    "    # If the vector dataset is empty, create a raster of zeros matching the shape of the geomedians\n",
    "    OSM_blds_xr = xr.DataArray(\n",
    "        np.zeros_like(wofs_mask),\n",
    "        coords=wofs_mask.coords,\n",
    "        dims=wofs_mask.dims,\n",
    "        attrs=wofs_mask.attrs,\n",
    "    )\n",
    "else:\n",
    "    OSM_blds_AOI = OSM_blds.cx[xmin:xmax, ymin:ymax]\n",
    "    OSM_blds_xr = xr_rasterize(gdf=OSM_blds_AOI, da=wofs_mask)\n",
    "\n",
    "# Check if the vector dataset is empty\n",
    "if OSM_airports.empty:\n",
    "    # If the vector dataset is empty, create a raster of zeros matching the shape of the geomedians\n",
    "    OSM_airports_xr = xr.DataArray(\n",
    "        np.zeros_like(wofs_mask),\n",
    "        coords=wofs_mask.coords,\n",
    "        dims=wofs_mask.dims,\n",
    "        attrs=wofs_mask.attrs,\n",
    "    )\n",
    "else:\n",
    "    OSM_airports_AOI = OSM_airports.cx[xmin:xmax, ymin:ymax]\n",
    "    OSM_airports_xr = xr_rasterize(gdf=OSM_airports_AOI, da=wofs_mask)\n",
    "\n",
    "    # Check if the vector dataset is empty\n",
    "if OSM_roads.empty:\n",
    "    # If the vector dataset is empty, create a raster of zeros matching the shape of the geomedians\n",
    "    OSM_roads_xr = xr.DataArray(\n",
    "        np.zeros_like(wofs_mask),\n",
    "        coords=wofs_mask.coords,\n",
    "        dims=wofs_mask.dims,\n",
    "        attrs=wofs_mask.attrs,\n",
    "    )\n",
    "else:\n",
    "    # only selecting out roads that are sealed and fit the taxonomy of artificial surfaces\n",
    "    OSM_roads_filtered = OSM_roads[OSM_roads['highway'].isin(['primary', 'primary_link', 'secondary', 'secondary_link', 'trunk', 'trunk_link'])]\n",
    "    OSM_roads_AOI = OSM_roads.cx[xmin:xmax, ymin:ymax]\n",
    "    OSM_roads_xr = xr_rasterize(gdf=OSM_roads_AOI, da=wofs_mask)\n"
   ]
  },
  {
   "cell_type": "code",
   "execution_count": null,
   "metadata": {
    "tags": []
   },
   "outputs": [],
   "source": [
    "# combine OSM xarrays\n",
    "OSM_xr = xr.where((OSM_blds_xr == 1) | (OSM_airports_xr == 1) | (OSM_roads_xr == 1), 1, 0)\n",
    "\n",
    "artific_urb_cat_ds = OSM_xr.to_dataset(\n",
    "    name=\"artific_urb_cat\")"
   ]
  },
  {
   "cell_type": "code",
   "execution_count": null,
   "metadata": {
    "tags": []
   },
   "outputs": [],
   "source": [
    "# plot output\n",
    "artific_urb_cat_ds.artific_urb_cat.plot()"
   ]
  },
  {
   "cell_type": "markdown",
   "metadata": {},
   "source": [
    "### 5. Natural Water / Artificial Water"
   ]
  },
  {
   "cell_type": "markdown",
   "metadata": {
    "tags": []
   },
   "source": [
    "NONE"
   ]
  },
  {
   "cell_type": "markdown",
   "metadata": {},
   "source": [
    "### **Collect environmental variables into array for passing to classification system**"
   ]
  },
  {
   "cell_type": "code",
   "execution_count": null,
   "metadata": {
    "tags": []
   },
   "outputs": [],
   "source": [
    "variables_xarray_list = []\n",
    "variables_xarray_list.append(vegetat_veg_cat_ds)\n",
    "variables_xarray_list.append(aquatic_wat_cat_ds)\n",
    "variables_xarray_list.append(cultman_agr_cat_ds)\n",
    "variables_xarray_list.append(artific_urb_cat_ds)\n",
    "# variables_xarray_list.append(artwatr_wat_cat_ds)"
   ]
  },
  {
   "cell_type": "markdown",
   "metadata": {},
   "source": [
    "## <font color=blue>Level 3 classification</font>"
   ]
  },
  {
   "cell_type": "markdown",
   "metadata": {},
   "source": [
    "**The LCCS classificaition is hierachial. The 8 classes are shown below**\n",
    "\n",
    "| Class name | Code | Numeric code |\n",
    "|----------------------------------|-----|-----|\n",
    "| Cultivated Terrestrial Vegetated | A11 | 111 |\n",
    "| Natural Terrestrial Vegetated | A12 | 112 |\n",
    "| Cultivated Aquatic Vegetated | A23 | 123 |\n",
    "| Natural Aquatic Vegetated | A24 | 124 |\n",
    "| Artificial Surface | B15 | 215 |\n",
    "| Natural Surface | B16 | 216 |\n",
    "| Artificial Water | B27 | 227 |\n",
    "| Natural Water | B28 | 228 |\n"
   ]
  },
  {
   "cell_type": "code",
   "execution_count": null,
   "metadata": {
    "tags": []
   },
   "outputs": [],
   "source": [
    "# Merge to a single dataframe\n",
    "classification_data = xr.merge(variables_xarray_list)"
   ]
  },
  {
   "cell_type": "code",
   "execution_count": null,
   "metadata": {
    "tags": []
   },
   "outputs": [],
   "source": [
    "# Apply Level 3 classification using separate function. Works through in three stages\n",
    "level1, level2, level3 = lccs_l3.classify_lccs_level3(classification_data)"
   ]
  },
  {
   "cell_type": "code",
   "execution_count": null,
   "metadata": {
    "tags": []
   },
   "outputs": [],
   "source": [
    "# Save classification values back to xarray\n",
    "out_class_xarray = xr.Dataset(\n",
    "    {\"level1\" : (classification_data[\"vegetat_veg_cat\"].dims, level1),\n",
    "     \"level2\" : (classification_data[\"vegetat_veg_cat\"].dims, level2),\n",
    "     \"level3\" : (classification_data[\"vegetat_veg_cat\"].dims, level3)})\n",
    "classification_data = xr.merge([classification_data, out_class_xarray])"
   ]
  },
  {
   "cell_type": "code",
   "execution_count": null,
   "metadata": {
    "tags": []
   },
   "outputs": [],
   "source": [
    "# Creating an array of non-valid bare surface because of the wofs' nan issue\n",
    "classification_nan = ((classification_data.level3.where(\n",
    "                            (classification_data.level3==216) & \n",
    "                            (wofs.frequency.isnull())))*0).fillna(1)"
   ]
  },
  {
   "cell_type": "code",
   "execution_count": null,
   "metadata": {
    "tags": []
   },
   "outputs": [],
   "source": [
    "# Filtering non-valid bare surface (i.e, due to NaN in WOFs) out of level 2 and level 3\n",
    "# Level2 set to zero where WOFs is NaN (i.e., info on water/terrestrial in non-veg areas isn't valid)\n",
    "classification_data[\"level2\"] = classification_data.level2 * classification_nan\n",
    "\n",
    "# Set Level3 to Level1 value where Level2 is zero\n",
    "classification_data[\"level3\"] = ((classification_data.level3.where((classification_data.level1==200) & (\n",
    "                                    classification_data.level2==0))*0+200).fillna(0) + (\n",
    "                                classification_data.level3.where(classification_data.level2!=0).fillna(0)))"
   ]
  },
  {
   "cell_type": "markdown",
   "metadata": {},
   "source": [
    "## <font color=blue>Level 3 results</font>"
   ]
  },
  {
   "cell_type": "code",
   "execution_count": null,
   "metadata": {
    "tags": []
   },
   "outputs": [],
   "source": [
    "red, green, blue, alpha = lccs_l3.colour_lccs_level3(classification_data.level3.values)\n",
    "img = np.dstack([red, green, blue, alpha])\n",
    "\n",
    "# Rotate the image by 180 degrees - SHOULDN'T HAVE TO DO THIS BUT WAS NOT DISPLAYING PROPERLY\n",
    "img = np.rot90(img, 2)\n",
    "\n",
    "# Display the rotated image\n",
    "plt.figure(figsize=(12, 10))\n",
    "plt.imshow(img)\n",
    "plt.show()\n"
   ]
  },
  {
   "cell_type": "markdown",
   "metadata": {},
   "source": [
    "## <font color=blue>Create environmental layers for Level 4</font>"
   ]
  },
  {
   "cell_type": "code",
   "execution_count": null,
   "metadata": {
    "tags": []
   },
   "outputs": [],
   "source": [
    "# Convert level3 to Dataset and add name\n",
    "level3_ds = classification_data.level3.to_dataset(name=\"level3\")"
   ]
  },
  {
   "cell_type": "markdown",
   "metadata": {},
   "source": [
    "### 1. Water state\n",
    "<font color=red>**TODO:** could do this using wofs if we wanted </font>"
   ]
  },
  {
   "cell_type": "markdown",
   "metadata": {},
   "source": [
    "### 2. Water persistence\n",
    "<font color=red>**TODO:** could do this using wofs if we wanted </font>"
   ]
  },
  {
   "cell_type": "markdown",
   "metadata": {},
   "source": [
    "### 3. Lifeform\n",
    "Describes the detail of vegetated classes, separating woody from herbaceous  \n",
    "0: Not applicable (such as in water areas)  \n",
    "1: Woody (trees, shrubs)  \n",
    "2: Herbaceous (grasses, forbs)"
   ]
  },
  {
   "cell_type": "markdown",
   "metadata": {},
   "source": [
    "#### Sentinel1-based version"
   ]
  },
  {
   "cell_type": "code",
   "execution_count": null,
   "metadata": {
    "tags": []
   },
   "outputs": [],
   "source": [
    "# Open woodyarti tif file as xarray\n",
    "# woody_s1_2020 = '../data/Woodyarti_30m_PNG.tif'\n",
    "woody_s1_2020 = \"s3://oa-bluecarbon-work-easi/livingearth-png/Woodyarti_30m_PNG.tif\"\n",
    "woody_s1_layer = rio_slurp_xarray(woody_s1_2020, gbox=vegetat_veg_cat_ds.geobox)"
   ]
  },
  {
   "cell_type": "code",
   "execution_count": null,
   "metadata": {
    "tags": []
   },
   "outputs": [],
   "source": [
    "woody_layer = (mangrove + woody_s1_layer)"
   ]
  },
  {
   "cell_type": "code",
   "execution_count": null,
   "metadata": {
    "tags": []
   },
   "outputs": [],
   "source": [
    "# Convert binary woodyarti layer to lifeform lccs classes\n",
    "lifeform = woody_layer.where(woody_layer > 0)*0+1\n",
    "lifeform = lifeform.fillna(2)\n",
    "lifeform_veg_cat_ds = lifeform.to_dataset(name=\"lifeform_veg_cat\").squeeze()"
   ]
  },
  {
   "cell_type": "markdown",
   "metadata": {},
   "source": [
    "#### Landsat-based version"
   ]
  },
  {
   "cell_type": "code",
   "execution_count": null,
   "metadata": {
    "tags": []
   },
   "outputs": [],
   "source": [
    "# # Load woody cover fraction\n",
    "\n",
    "# # Need to add any tranformations for the VP you're using\n",
    "# # Get location of transformation\n",
    "# transformation = \"WCF\"\n",
    "# trans_loc = importlib.import_module(transformation)\n",
    "# trans_class = transformation.split('.')[-1]\n",
    "\n",
    "# DEFAULT_RESOLVER.register('transform', trans_class, getattr(trans_loc, trans_class) )"
   ]
  },
  {
   "cell_type": "code",
   "execution_count": null,
   "metadata": {
    "tags": []
   },
   "outputs": [],
   "source": [
    "# # see what's already in the resolver \n",
    "# DEFAULT_RESOLVER.lookup_table['transform']"
   ]
  },
  {
   "cell_type": "code",
   "execution_count": null,
   "metadata": {
    "tags": []
   },
   "outputs": [],
   "source": [
    "# # load WCF\n",
    "# product = catalog['WCF']\n",
    "# wcf = product.load(dc, **query)\n",
    "# wcf_da = wcf.WCF"
   ]
  },
  {
   "cell_type": "code",
   "execution_count": null,
   "metadata": {
    "tags": []
   },
   "outputs": [],
   "source": [
    "# lifeform = wcf_da.copy()\n",
    "# # threshold of woody and non woody vegetation\n",
    "# lifeform.values = np.where(lifeform >= 0.2, 1, 2)\n",
    "\n",
    "# # Convert to Dataset and add name\n",
    "# lifeform_veg_cat_ds = lifeform.to_dataset(name=\"lifeform_veg_cat\").squeeze()#.drop('time')"
   ]
  },
  {
   "cell_type": "code",
   "execution_count": null,
   "metadata": {
    "tags": []
   },
   "outputs": [],
   "source": [
    "# lifeform_veg_cat_ds.lifeform_veg_cat.plot()"
   ]
  },
  {
   "cell_type": "markdown",
   "metadata": {},
   "source": [
    "### 4. Canopy cover\n",
    "<font color=red>**TODO:** could do this using fractional cover if we wanted </font>"
   ]
  },
  {
   "cell_type": "markdown",
   "metadata": {},
   "source": [
    "## <font color=blue>Level 4 classification</font>"
   ]
  },
  {
   "cell_type": "code",
   "execution_count": null,
   "metadata": {
    "tags": []
   },
   "outputs": [],
   "source": [
    "variables_xarray_list = []\n",
    "variables_xarray_list.append(level3_ds)\n",
    "# variables_xarray_list.append(waterstt_wat_cat_ds)\n",
    "# variables_xarray_list.append(waterper_wat_cin_ds)\n",
    "variables_xarray_list.append(lifeform_veg_cat_ds)\n",
    "# variables_xarray_list.append(canopyco_veg_con_ds)"
   ]
  },
  {
   "cell_type": "code",
   "execution_count": null,
   "metadata": {
    "tags": []
   },
   "outputs": [],
   "source": [
    "# Merge to a single dataframe\n",
    "l4_classification_data = xr.merge(variables_xarray_list)"
   ]
  },
  {
   "cell_type": "code",
   "execution_count": null,
   "metadata": {
    "tags": []
   },
   "outputs": [],
   "source": [
    "# Apply Level 4 classification\n",
    "classification_array = lccs_l4.classify_lccs_level4(l4_classification_data)"
   ]
  },
  {
   "cell_type": "code",
   "execution_count": null,
   "metadata": {
    "tags": []
   },
   "outputs": [],
   "source": [
    "# Get Level 4 codes to apply colour scheme\n",
    "l4_classification_codes = lccs_l4.get_lccs_level4_code(classification_array)\n",
    "print(np.unique(l4_classification_codes))"
   ]
  },
  {
   "cell_type": "code",
   "execution_count": null,
   "metadata": {},
   "outputs": [],
   "source": [
    "classification_level4 = (classification_array.level3*10.)+(\n",
    "                       classification_array.lifeform_veg_cat_l4a)\n",
    "print(np.unique(classification_level4))"
   ]
  },
  {
   "cell_type": "markdown",
   "metadata": {},
   "source": [
    "## <font color=blue>Level 4 results</font>"
   ]
  },
  {
   "cell_type": "code",
   "execution_count": null,
   "metadata": {
    "tags": []
   },
   "outputs": [],
   "source": [
    "# # To check the results for level 3 use colour_lccs_level3 to get the colour scheme.\n",
    "# # WIP: can't get plot to populate, problem with colour scheme maybe?\n",
    "# pyplot.figure(figsize=(12, 10))\n",
    "# red, green, blue, alpha = lccs_l4.colour_lccs_level4(l4_classification_codes)\n",
    "# pyplot.imshow(numpy.dstack([red, green, blue, alpha]))"
   ]
  },
  {
   "cell_type": "markdown",
   "metadata": {
    "tags": []
   },
   "source": [
    "## <font color=blue>Select out blue carbon ecosystems (mangrove, saltmarsh, tidal woody area) from level 3 and 4 </font>"
   ]
  },
  {
   "cell_type": "markdown",
   "metadata": {},
   "source": [
    "### 1. Mangrove ecosystem\n",
    "- level 3 == 124\n",
    "- lifeform == 1\n",
    "- GMW == 1"
   ]
  },
  {
   "cell_type": "code",
   "execution_count": null,
   "metadata": {
    "tags": []
   },
   "outputs": [],
   "source": [
    "mangrove_class = (level3_ds.level3.where((classification_array.level3 == 124) & (\n",
    "                    classification_array.lifeform_veg_cat_l4a == 1) & (\n",
    "                    mangrove == 1))*0+1).fillna(0)"
   ]
  },
  {
   "cell_type": "code",
   "execution_count": null,
   "metadata": {
    "tags": []
   },
   "outputs": [],
   "source": [
    "mangrove_class.plot()"
   ]
  },
  {
   "cell_type": "markdown",
   "metadata": {},
   "source": [
    "### 2. Tidal woody ecosystem\n",
    "- level 3 == 124\n",
    "- lifeform == 1\n",
    "- GMW == 0"
   ]
  },
  {
   "cell_type": "code",
   "execution_count": null,
   "metadata": {
    "tags": []
   },
   "outputs": [],
   "source": [
    "tidal_woody_class = (level3_ds.level3.where((classification_array.level3 == 124) & (\n",
    "                    classification_array.lifeform_veg_cat_l4a == 1) & (\n",
    "                    mangrove != 1))*0+2).fillna(0)"
   ]
  },
  {
   "cell_type": "code",
   "execution_count": null,
   "metadata": {
    "tags": []
   },
   "outputs": [],
   "source": [
    "tidal_woody_class.plot()"
   ]
  },
  {
   "cell_type": "markdown",
   "metadata": {},
   "source": [
    "### 3. Saltmarsh ecosystem\n",
    "- level 3 == 124\n",
    "- lifeform == 2"
   ]
  },
  {
   "cell_type": "code",
   "execution_count": null,
   "metadata": {},
   "outputs": [],
   "source": [
    "saltmarsh_class = (level3_ds.level3.where((classification_array.level3 == 124) & (\n",
    "                    classification_array.lifeform_veg_cat_l4a == 2))*0+3).fillna(0)"
   ]
  },
  {
   "cell_type": "code",
   "execution_count": null,
   "metadata": {
    "tags": []
   },
   "outputs": [],
   "source": [
    "saltmarsh_class.plot()"
   ]
  },
  {
   "cell_type": "markdown",
   "metadata": {},
   "source": [
    "## <font color=blue>Blue carbon ecosystems</font>"
   ]
  },
  {
   "cell_type": "code",
   "execution_count": null,
   "metadata": {},
   "outputs": [],
   "source": [
    "# combine\n",
    "BCE = mangrove_class + saltmarsh_class + tidal_woody_class\n",
    "BCE = BCE.where(BCE !=0, classification_level4)"
   ]
  },
  {
   "cell_type": "code",
   "execution_count": null,
   "metadata": {},
   "outputs": [],
   "source": [
    "from matplotlib.colors import ListedColormap\n",
    "\n",
    "# create a custom colormap with green, yellow, and brown colors\n",
    "cmap = ListedColormap([\"#ffffff\", \"#36a86d\", \"#1a8745\", \"#75e3a7\", \"#1b6924\", \"#88e673\",\n",
    "                       \"#1a8745\", \"#60bd96\", \"#b1a9ba\", \"#e65a5a\", \"#c9a571\", \"#55b2e0\"])\n",
    "\n",
    "# specify the color levels corresponding to each value\n",
    "levels = [0., 0.5, 1.5, 2.5, 3.5, 1121.5, 1122.5, \n",
    "          1241.5, 1242.5, 2000.5, 2150.5, 2160.5, 2200.5]\n",
    "\n",
    "# create the plot with custom colors and color levels\n",
    "# plot = BCE.plot(cmap=cmap, levels=levels, add_colorbar=False)\n",
    "plot = BCE.plot(cmap=cmap, levels=levels, add_colorbar=False)\n",
    "\n",
    "# add a legend\n",
    "# legend_labels = {1: \"Mangrove\", 2: \"Tidal woody\", 3: \"Saltmarsh\"}\n",
    "# handles = [plt.Rectangle((0,0),1,1, color=color) for color in cmap(np.arange(cmap.N))]\n",
    "# labels = [legend_labels[i+1] for i in range(len(legend_labels))]\n",
    "# plt.legend(handles, labels, bbox_to_anchor=(1.05, 1), loc='upper left')\n",
    "\n",
    "# change fig size and show the plot\n",
    "fig = plt.gcf()\n",
    "fig.set_size_inches(10, 8)\n",
    "plt.show()"
   ]
  },
  {
   "cell_type": "markdown",
   "metadata": {},
   "source": [
    "### **Save results to geotiff**"
   ]
  },
  {
   "cell_type": "code",
   "execution_count": null,
   "metadata": {},
   "outputs": [],
   "source": [
    "# min_x = classification_data.coords['x'].min().values\n",
    "# max_x = classification_data.coords['x'].max().values\n",
    "# min_y = classification_data.coords['y'].min().values\n",
    "# max_y = classification_data.coords['y'].max().values\n",
    "\n",
    "# res_x = 30 \n",
    "# res_y = -30 \n",
    "# crs = 'EPSG:32755'\n",
    "# # Write out\n",
    "# output_rgb_file_name = \"../data/level3_test.tif\"\n",
    "# out_file_transform = [res_x, 0, min_x, 0, res_y, max_y]\n",
    "# output_x_size = int((max_x - min_x)/res_x)\n",
    "# output_y_size = int((min_y - max_y)/res_y)\n",
    "\n",
    "# # Write RGB colour scheme out\n",
    "# rgb_dataset = rasterio.open(output_rgb_file_name, 'w', driver='GTiff',\n",
    "#                             height=output_y_size, width=output_x_size,\n",
    "#                             count=3, dtype=level3.dtype,\n",
    "#                             crs=crs, transform=out_file_transform)\n",
    "# rgb_dataset.write(red, 1)\n",
    "# rgb_dataset.write(green, 2)\n",
    "# rgb_dataset.write(blue, 3)\n",
    "# rgb_dataset.close()"
   ]
  },
  {
   "cell_type": "code",
   "execution_count": null,
   "metadata": {
    "tags": []
   },
   "outputs": [],
   "source": [
    "client.close()\n",
    "\n",
    "cluster.close()"
   ]
  },
  {
   "cell_type": "code",
   "execution_count": null,
   "metadata": {},
   "outputs": [],
   "source": []
  }
 ],
 "metadata": {
  "kernelspec": {
   "display_name": "WOfS_Environment",
   "language": "python",
   "name": "wofs_environment"
  },
  "language_info": {
   "codemirror_mode": {
    "name": "ipython",
    "version": 3
   },
   "file_extension": ".py",
   "mimetype": "text/x-python",
   "name": "python",
   "nbconvert_exporter": "python",
   "pygments_lexer": "ipython3",
   "version": "3.10.12"
  },
  "toc": {
   "base_numbering": 1,
   "nav_menu": {},
   "number_sections": true,
   "sideBar": true,
   "skip_h1_title": true,
   "title_cell": "Table of Contents",
   "title_sidebar": "Contents",
   "toc_cell": false,
   "toc_position": {},
   "toc_section_display": true,
   "toc_window_display": false
  }
 },
 "nbformat": 4,
 "nbformat_minor": 4
}
