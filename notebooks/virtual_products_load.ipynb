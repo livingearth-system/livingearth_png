{
 "cells": [
  {
   "cell_type": "markdown",
   "metadata": {},
   "source": [
    "# Generating virtual products\n"
   ]
  },
  {
   "cell_type": "markdown",
   "metadata": {},
   "source": [
    "#### Install the environment (need DEA fc and wofs packages) using the following on command line"
   ]
  },
  {
   "cell_type": "code",
   "execution_count": 1,
   "metadata": {
    "tags": []
   },
   "outputs": [
    {
     "data": {
      "text/plain": [
       "\"\\npython3 -m venv ~/venvs/VP_Environment\\nsource ~/venvs/VP_Environment/bin/activate\\ndeactivate\\nrealpath /env/lib/python3.10/site-packages > ~/venvs/VP_Environment/lib/python3.10/site-packages/base_venv.pth\\nsource ~/venvs/VP_Environment/bin/activate\\npip install --extra-index-url=https://packages.dea.ga.gov.au/ fc\\npip install ephem\\npip install --index-url https://packages.dea.ga.gov.au/ wofs\\npython -m ipykernel install --user --name=VP_Environment\\ncd venvs/VP_Environment\\ntouch setup.py\\n\\n##### add in text below to setup.py\\n\\nfrom setuptools import setup, find_packages\\n\\nsetup(\\n    name='VP_Environment',\\n    version='1.0',\\n    packages=find_packages(),\\n    install_requires=[\\n        'ephem',\\n        'wofs',\\n        'fc'\\n    ],\\n)\\n\\n#####\\n\\npython setup.py bdist_egg\\n\\n\""
      ]
     },
     "execution_count": 1,
     "metadata": {},
     "output_type": "execute_result"
    }
   ],
   "source": [
    "'''\n",
    "python3 -m venv ~/venvs/VP_Environment\n",
    "source ~/venvs/VP_Environment/bin/activate\n",
    "deactivate\n",
    "realpath /env/lib/python3.10/site-packages > ~/venvs/VP_Environment/lib/python3.10/site-packages/base_venv.pth\n",
    "source ~/venvs/VP_Environment/bin/activate\n",
    "pip install --extra-index-url=https://packages.dea.ga.gov.au/ fc\n",
    "pip install ephem\n",
    "pip install --index-url https://packages.dea.ga.gov.au/ wofs\n",
    "python -m ipykernel install --user --name=VP_Environment\n",
    "cd venvs/VP_Environment\n",
    "touch setup.py\n",
    "\n",
    "##### add in text below to setup.py\n",
    "\n",
    "from setuptools import setup, find_packages\n",
    "\n",
    "setup(\n",
    "    name='VP_Environment',\n",
    "    version='1.0',\n",
    "    packages=find_packages(),\n",
    "    install_requires=[\n",
    "        'ephem',\n",
    "        'wofs',\n",
    "        'fc'\n",
    "    ],\n",
    ")\n",
    "\n",
    "#####\n",
    "\n",
    "python setup.py bdist_egg\n",
    "\n",
    "'''"
   ]
  },
  {
   "cell_type": "markdown",
   "metadata": {},
   "source": [
    "#### Load packages"
   ]
  },
  {
   "cell_type": "code",
   "execution_count": 2,
   "metadata": {},
   "outputs": [],
   "source": [
    "%matplotlib inline\n",
    "import numpy as np\n",
    "\n",
    "import warnings\n",
    "warnings.filterwarnings('ignore')\n",
    "\n",
    "import os, sys\n",
    "sys.path.insert(1, \"/home/jovyan/code/livingearth_png/le_plugins\")\n",
    "import datacube\n",
    "\n",
    "from dea_tools.plotting import rgb, display_map\n",
    "from datacube.utils.cog import write_cog\n",
    "from datacube.drivers.netcdf import write_dataset_to_netcdf\n",
    "\n",
    "# for virtual products\n",
    "import yaml\n",
    "import importlib\n",
    "from datacube.virtual import catalog_from_file\n",
    "from datacube.virtual import DEFAULT_RESOLVER\n",
    "\n",
    "dc = datacube.Datacube(app='Virtual_products')\n",
    "\n",
    "catalog = catalog_from_file('../le_plugins/virtual_product_cat.yaml')\n"
   ]
  },
  {
   "cell_type": "markdown",
   "metadata": {},
   "source": [
    "#### AWS Access"
   ]
  },
  {
   "cell_type": "code",
   "execution_count": 3,
   "metadata": {},
   "outputs": [
    {
     "data": {
      "text/plain": [
       "<botocore.credentials.Credentials at 0x7f1ea03d1540>"
      ]
     },
     "execution_count": 3,
     "metadata": {},
     "output_type": "execute_result"
    }
   ],
   "source": [
    "## Optional: Access AWS \"requester-pays\" buckets\n",
    "# This is necessary for Landsat (\"landsatN_c2l2_*\") and Sentinel-2 (\"s2_l2a\") products\n",
    "from datacube.utils.aws import configure_s3_access\n",
    "configure_s3_access(aws_unsigned=False, requester_pays=True)#, client=client);"
   ]
  },
  {
   "cell_type": "markdown",
   "metadata": {},
   "source": [
    "#### display AOI"
   ]
  },
  {
   "cell_type": "code",
   "execution_count": 4,
   "metadata": {},
   "outputs": [
    {
     "data": {
      "text/html": [
       "<div style=\"width:100%;\"><div style=\"position:relative;width:100%;height:0;padding-bottom:60%;\"><span style=\"color:#565656\">Make this Notebook Trusted to load map: File -> Trust Notebook</span><iframe srcdoc=\"&lt;!DOCTYPE html&gt;\n",
       "&lt;html&gt;\n",
       "&lt;head&gt;\n",
       "    \n",
       "    &lt;meta http-equiv=&quot;content-type&quot; content=&quot;text/html; charset=UTF-8&quot; /&gt;\n",
       "    \n",
       "        &lt;script&gt;\n",
       "            L_NO_TOUCH = false;\n",
       "            L_DISABLE_3D = false;\n",
       "        &lt;/script&gt;\n",
       "    \n",
       "    &lt;style&gt;html, body {width: 100%;height: 100%;margin: 0;padding: 0;}&lt;/style&gt;\n",
       "    &lt;style&gt;#map {position:absolute;top:0;bottom:0;right:0;left:0;}&lt;/style&gt;\n",
       "    &lt;script src=&quot;https://cdn.jsdelivr.net/npm/leaflet@1.9.3/dist/leaflet.js&quot;&gt;&lt;/script&gt;\n",
       "    &lt;script src=&quot;https://code.jquery.com/jquery-1.12.4.min.js&quot;&gt;&lt;/script&gt;\n",
       "    &lt;script src=&quot;https://cdn.jsdelivr.net/npm/bootstrap@5.2.2/dist/js/bootstrap.bundle.min.js&quot;&gt;&lt;/script&gt;\n",
       "    &lt;script src=&quot;https://cdnjs.cloudflare.com/ajax/libs/Leaflet.awesome-markers/2.0.2/leaflet.awesome-markers.js&quot;&gt;&lt;/script&gt;\n",
       "    &lt;link rel=&quot;stylesheet&quot; href=&quot;https://cdn.jsdelivr.net/npm/leaflet@1.9.3/dist/leaflet.css&quot;/&gt;\n",
       "    &lt;link rel=&quot;stylesheet&quot; href=&quot;https://cdn.jsdelivr.net/npm/bootstrap@5.2.2/dist/css/bootstrap.min.css&quot;/&gt;\n",
       "    &lt;link rel=&quot;stylesheet&quot; href=&quot;https://netdna.bootstrapcdn.com/bootstrap/3.0.0/css/bootstrap.min.css&quot;/&gt;\n",
       "    &lt;link rel=&quot;stylesheet&quot; href=&quot;https://cdn.jsdelivr.net/npm/@fortawesome/fontawesome-free@6.2.0/css/all.min.css&quot;/&gt;\n",
       "    &lt;link rel=&quot;stylesheet&quot; href=&quot;https://cdnjs.cloudflare.com/ajax/libs/Leaflet.awesome-markers/2.0.2/leaflet.awesome-markers.css&quot;/&gt;\n",
       "    &lt;link rel=&quot;stylesheet&quot; href=&quot;https://cdn.jsdelivr.net/gh/python-visualization/folium/folium/templates/leaflet.awesome.rotate.min.css&quot;/&gt;\n",
       "    \n",
       "            &lt;meta name=&quot;viewport&quot; content=&quot;width=device-width,\n",
       "                initial-scale=1.0, maximum-scale=1.0, user-scalable=no&quot; /&gt;\n",
       "            &lt;style&gt;\n",
       "                #map_46f0dc86d9a30dfe2c71ff31e1226735 {\n",
       "                    position: relative;\n",
       "                    width: 100.0%;\n",
       "                    height: 100.0%;\n",
       "                    left: 0.0%;\n",
       "                    top: 0.0%;\n",
       "                }\n",
       "                .leaflet-container { font-size: 1rem; }\n",
       "            &lt;/style&gt;\n",
       "        \n",
       "&lt;/head&gt;\n",
       "&lt;body&gt;\n",
       "    \n",
       "    \n",
       "            &lt;div class=&quot;folium-map&quot; id=&quot;map_46f0dc86d9a30dfe2c71ff31e1226735&quot; &gt;&lt;/div&gt;\n",
       "        \n",
       "&lt;/body&gt;\n",
       "&lt;script&gt;\n",
       "    \n",
       "    \n",
       "            var map_46f0dc86d9a30dfe2c71ff31e1226735 = L.map(\n",
       "                &quot;map_46f0dc86d9a30dfe2c71ff31e1226735&quot;,\n",
       "                {\n",
       "                    center: [-7.334, 144.445],\n",
       "                    crs: L.CRS.EPSG3857,\n",
       "                    zoom: 16,\n",
       "                    zoomControl: true,\n",
       "                    preferCanvas: false,\n",
       "                }\n",
       "            );\n",
       "\n",
       "            \n",
       "\n",
       "        \n",
       "    \n",
       "            var tile_layer_bf8ad03124544f801be91b4bdfad10cf = L.tileLayer(\n",
       "                &quot;http://mt1.google.com/vt/lyrs=y\\u0026z={z}\\u0026x={x}\\u0026y={y}&quot;,\n",
       "                {&quot;attribution&quot;: &quot;Google&quot;, &quot;detectRetina&quot;: false, &quot;maxNativeZoom&quot;: 18, &quot;maxZoom&quot;: 18, &quot;minZoom&quot;: 0, &quot;noWrap&quot;: false, &quot;opacity&quot;: 1, &quot;subdomains&quot;: &quot;abc&quot;, &quot;tms&quot;: false}\n",
       "            ).addTo(map_46f0dc86d9a30dfe2c71ff31e1226735);\n",
       "        \n",
       "    \n",
       "            var poly_line_128d7af369b79e50437991b59b3d7148 = L.polyline(\n",
       "                [[-7.329, 144.44], [-7.329, 144.45], [-7.339, 144.45], [-7.339, 144.44], [-7.329, 144.44]],\n",
       "                {&quot;bubblingMouseEvents&quot;: true, &quot;color&quot;: &quot;red&quot;, &quot;dashArray&quot;: null, &quot;dashOffset&quot;: null, &quot;fill&quot;: false, &quot;fillColor&quot;: &quot;red&quot;, &quot;fillOpacity&quot;: 0.2, &quot;fillRule&quot;: &quot;evenodd&quot;, &quot;lineCap&quot;: &quot;round&quot;, &quot;lineJoin&quot;: &quot;round&quot;, &quot;noClip&quot;: false, &quot;opacity&quot;: 0.8, &quot;smoothFactor&quot;: 1.0, &quot;stroke&quot;: true, &quot;weight&quot;: 3}\n",
       "            ).addTo(map_46f0dc86d9a30dfe2c71ff31e1226735);\n",
       "        \n",
       "    \n",
       "                var lat_lng_popup_77f2aa61837a22a8f3f9c12185410e08 = L.popup();\n",
       "                function latLngPop(e) {\n",
       "                    lat_lng_popup_77f2aa61837a22a8f3f9c12185410e08\n",
       "                        .setLatLng(e.latlng)\n",
       "                        .setContent(&quot;Latitude: &quot; + e.latlng.lat.toFixed(4) +\n",
       "                                    &quot;&lt;br&gt;Longitude: &quot; + e.latlng.lng.toFixed(4))\n",
       "                        .openOn(map_46f0dc86d9a30dfe2c71ff31e1226735);\n",
       "                    }\n",
       "                map_46f0dc86d9a30dfe2c71ff31e1226735.on(&#x27;click&#x27;, latLngPop);\n",
       "            \n",
       "&lt;/script&gt;\n",
       "&lt;/html&gt;\" style=\"position:absolute;width:100%;height:100%;left:0;top:0;border:none !important;\" allowfullscreen webkitallowfullscreen mozallowfullscreen></iframe></div></div>"
      ],
      "text/plain": [
       "<folium.folium.Map at 0x7f1f1eba3550>"
      ]
     },
     "execution_count": 4,
     "metadata": {},
     "output_type": "execute_result"
    }
   ],
   "source": [
    "latitude = (-7.329, -7.339)\n",
    "longitude = (144.44, 144.45)\n",
    "\n",
    "# latitude = (-7.3, -7.4)\n",
    "# longitude = (144.4, 144.5)\n",
    "display_map(longitude, latitude)"
   ]
  },
  {
   "cell_type": "markdown",
   "metadata": {},
   "source": [
    "#### Set query"
   ]
  },
  {
   "cell_type": "code",
   "execution_count": 5,
   "metadata": {
    "tags": []
   },
   "outputs": [],
   "source": [
    "time = ('2020-01-01', '2020-03-31')\n",
    "\n",
    "crs = \"EPSG:32755\"\n",
    "res = (30, -30)\n",
    "\n",
    "query =({'time': time,\n",
    "             'latitude':latitude,\n",
    "            'longitude':longitude,\n",
    "            'output_crs':crs,\n",
    "            'resolution':res})"
   ]
  },
  {
   "cell_type": "markdown",
   "metadata": {},
   "source": [
    "## Load virtual products"
   ]
  },
  {
   "cell_type": "code",
   "execution_count": 6,
   "metadata": {
    "tags": []
   },
   "outputs": [
    {
     "data": {
      "text/plain": [
       "['woody_cover_model',\n",
       " 'ls_8',\n",
       " 'geomedian',\n",
       " 'fractional_cover',\n",
       " 'DEM',\n",
       " 'WOfS',\n",
       " 'mangroves',\n",
       " 'WCF']"
      ]
     },
     "execution_count": 6,
     "metadata": {},
     "output_type": "execute_result"
    }
   ],
   "source": [
    "list(catalog)"
   ]
  },
  {
   "cell_type": "markdown",
   "metadata": {
    "jp-MarkdownHeadingCollapsed": true,
    "tags": []
   },
   "source": [
    "### Landsat 8"
   ]
  },
  {
   "cell_type": "code",
   "execution_count": null,
   "metadata": {
    "tags": []
   },
   "outputs": [],
   "source": [
    "# Landsat 8\n",
    "product = catalog['ls_8']\n",
    "ls_8 = product.load(dc, **query)"
   ]
  },
  {
   "cell_type": "code",
   "execution_count": null,
   "metadata": {
    "tags": []
   },
   "outputs": [],
   "source": [
    "ls_8"
   ]
  },
  {
   "cell_type": "markdown",
   "metadata": {
    "tags": []
   },
   "source": [
    "### Geomedian"
   ]
  },
  {
   "cell_type": "code",
   "execution_count": 7,
   "metadata": {
    "tags": []
   },
   "outputs": [],
   "source": [
    "# Need to add any tranformations for the VP you're using\n",
    "\n",
    "# Get location of transformation\n",
    "transformation = \"geomedian\"\n",
    "trans_loc = importlib.import_module(transformation)\n",
    "trans_class = transformation.split('.')[-1]\n",
    "\n",
    "DEFAULT_RESOLVER.register('transform', trans_class, getattr(trans_loc, trans_class) )"
   ]
  },
  {
   "cell_type": "code",
   "execution_count": 8,
   "metadata": {
    "tags": []
   },
   "outputs": [
    {
     "data": {
      "text/plain": [
       "{'make_mask': datacube.virtual.transformations.MakeMask,\n",
       " 'apply_mask': datacube.virtual.transformations.ApplyMask,\n",
       " 'to_float': datacube.virtual.transformations.ToFloat,\n",
       " 'rename': datacube.virtual.transformations.Rename,\n",
       " 'select': datacube.virtual.transformations.Select,\n",
       " 'expressions': datacube.virtual.transformations.Expressions,\n",
       " 'geomedian': geomedian.geomedian}"
      ]
     },
     "execution_count": 8,
     "metadata": {},
     "output_type": "execute_result"
    }
   ],
   "source": [
    "# see what's already in the resolver \n",
    "DEFAULT_RESOLVER.lookup_table['transform']"
   ]
  },
  {
   "cell_type": "code",
   "execution_count": 9,
   "metadata": {
    "tags": []
   },
   "outputs": [],
   "source": [
    "# load geomedian\n",
    "product = catalog['geomedian']\n",
    "geomedian = product.load(dc, **query)"
   ]
  },
  {
   "cell_type": "code",
   "execution_count": 10,
   "metadata": {
    "tags": []
   },
   "outputs": [
    {
     "data": {
      "image/png": "[encoded data removed]",
      "text/plain": [
       "<Figure size 500x500 with 1 Axes>"
      ]
     },
     "metadata": {},
     "output_type": "display_data"
    }
   ],
   "source": [
    "# Plot the result\n",
    "rgb(geomedian, size=5)"
   ]
  },
  {
   "cell_type": "markdown",
   "metadata": {
    "jp-MarkdownHeadingCollapsed": true,
    "tags": []
   },
   "source": [
    "### Fractional Cover"
   ]
  },
  {
   "cell_type": "code",
   "execution_count": null,
   "metadata": {
    "tags": []
   },
   "outputs": [],
   "source": [
    "# Need to add any tranformations for the VP you're using\n",
    "\n",
    "# Get location of transformation\n",
    "transformation = \"fractional_cover\"\n",
    "trans_loc = importlib.import_module(transformation)\n",
    "trans_class = transformation.split('.')[-1]\n",
    "\n",
    "DEFAULT_RESOLVER.register('transform', trans_class, getattr(trans_loc, trans_class) )"
   ]
  },
  {
   "cell_type": "code",
   "execution_count": null,
   "metadata": {},
   "outputs": [],
   "source": [
    "# see what's already in the resolver \n",
    "DEFAULT_RESOLVER.lookup_table['transform']"
   ]
  },
  {
   "cell_type": "code",
   "execution_count": null,
   "metadata": {
    "tags": []
   },
   "outputs": [],
   "source": [
    "# load fractional cover\n",
    "product = catalog['fractional_cover']\n",
    "fractional_cover = product.load(dc, **query)"
   ]
  },
  {
   "cell_type": "code",
   "execution_count": null,
   "metadata": {
    "tags": []
   },
   "outputs": [],
   "source": [
    "fractional_cover.PV_PC_90.plot()"
   ]
  },
  {
   "cell_type": "markdown",
   "metadata": {
    "jp-MarkdownHeadingCollapsed": true,
    "tags": []
   },
   "source": [
    "### WOfS"
   ]
  },
  {
   "cell_type": "code",
   "execution_count": null,
   "metadata": {
    "tags": []
   },
   "outputs": [],
   "source": [
    "# Need to add any tranformations for the VP you're using\n",
    "\n",
    "# Get location of transformation\n",
    "transformation = \"WOfS\"\n",
    "trans_loc = importlib.import_module(transformation)\n",
    "trans_class = transformation.split('.')[-1]\n",
    "\n",
    "DEFAULT_RESOLVER.register('transform', trans_class, getattr(trans_loc, trans_class) )"
   ]
  },
  {
   "cell_type": "code",
   "execution_count": null,
   "metadata": {
    "tags": []
   },
   "outputs": [],
   "source": [
    "# see what's already in the resolver \n",
    "DEFAULT_RESOLVER.lookup_table['transform']"
   ]
  },
  {
   "cell_type": "code",
   "execution_count": null,
   "metadata": {
    "tags": []
   },
   "outputs": [],
   "source": [
    "# load wofs\n",
    "product = catalog['WOfS']\n",
    "wofs = product.load(dc, **query)"
   ]
  },
  {
   "cell_type": "code",
   "execution_count": null,
   "metadata": {
    "tags": []
   },
   "outputs": [],
   "source": [
    "wofs.frequency.plot()"
   ]
  },
  {
   "cell_type": "markdown",
   "metadata": {},
   "source": [
    "## WCF\n",
    "- need to run geomedian above beforehand to then load WCF (which uses geomedian as input)"
   ]
  },
  {
   "cell_type": "code",
   "execution_count": 11,
   "metadata": {
    "tags": []
   },
   "outputs": [],
   "source": [
    "# Need to add any tranformations for the VP you're using\n",
    "\n",
    "# Get location of transformation\n",
    "transformation = \"WCF\"\n",
    "trans_loc = importlib.import_module(transformation)\n",
    "trans_class = transformation.split('.')[-1]\n",
    "\n",
    "DEFAULT_RESOLVER.register('transform', trans_class, getattr(trans_loc, trans_class) )"
   ]
  },
  {
   "cell_type": "code",
   "execution_count": 12,
   "metadata": {
    "tags": []
   },
   "outputs": [
    {
     "data": {
      "text/plain": [
       "{'make_mask': datacube.virtual.transformations.MakeMask,\n",
       " 'apply_mask': datacube.virtual.transformations.ApplyMask,\n",
       " 'to_float': datacube.virtual.transformations.ToFloat,\n",
       " 'rename': datacube.virtual.transformations.Rename,\n",
       " 'select': datacube.virtual.transformations.Select,\n",
       " 'expressions': datacube.virtual.transformations.Expressions,\n",
       " 'geomedian': geomedian.geomedian,\n",
       " 'WCF': WCF.WCF}"
      ]
     },
     "execution_count": 12,
     "metadata": {},
     "output_type": "execute_result"
    }
   ],
   "source": [
    "# see what's already in the resolver \n",
    "DEFAULT_RESOLVER.lookup_table['transform']"
   ]
  },
  {
   "cell_type": "code",
   "execution_count": 13,
   "metadata": {
    "tags": []
   },
   "outputs": [],
   "source": [
    "# load WCF\n",
    "product = catalog['WCF']\n",
    "wcf = product.load(dc, **query)"
   ]
  },
  {
   "cell_type": "code",
   "execution_count": 14,
   "metadata": {},
   "outputs": [
    {
     "data": {
      "text/plain": [
       "<matplotlib.collections.QuadMesh at 0x7f1e859b5060>"
      ]
     },
     "execution_count": 14,
     "metadata": {},
     "output_type": "execute_result"
    },
    {
     "data": {
      "image/png": "[encoded data removed]",
      "text/plain": [
       "<Figure size 640x480 with 2 Axes>"
      ]
     },
     "metadata": {},
     "output_type": "display_data"
    }
   ],
   "source": [
    "wcf.WCF.plot()"
   ]
  },
  {
   "cell_type": "markdown",
   "metadata": {
    "tags": []
   },
   "source": [
    "### Need outputs? - change below as required"
   ]
  },
  {
   "cell_type": "code",
   "execution_count": null,
   "metadata": {
    "tags": []
   },
   "outputs": [],
   "source": [
    "# # add crs and to_array for cog output\n",
    "# geomedian.attrs['crs'] = 'EPSG:32755'\n",
    "# geomedian_export = geomedian.to_array()\n",
    "\n",
    "# # output as cog\n",
    "# write_cog(geomedian_export, '../data/geomedian_test.tif', overwrite=True)\n",
    "\n",
    "# # export out as .nc to allow load back in easily as xarray\n",
    "# write_dataset_to_netcdf(geomedian, '../data/geomedian_test.nc')"
   ]
  }
 ],
 "metadata": {
  "kernelspec": {
   "display_name": "VP_Environment",
   "language": "python",
   "name": "vp_environment"
  },
  "language_info": {
   "codemirror_mode": {
    "name": "ipython",
    "version": 3
   },
   "file_extension": ".py",
   "mimetype": "text/x-python",
   "name": "python",
   "nbconvert_exporter": "python",
   "pygments_lexer": "ipython3",
   "version": "3.10.6"
  },
  "widgets": {
   "application/vnd.jupyter.widget-state+json": {
    "state": {},
    "version_major": 2,
    "version_minor": 0
   }
  }
 },
 "nbformat": 4,
 "nbformat_minor": 4
}
